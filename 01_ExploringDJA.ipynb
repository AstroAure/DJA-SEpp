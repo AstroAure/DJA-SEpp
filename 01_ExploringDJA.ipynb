{
 "cells": [
  {
   "cell_type": "code",
   "execution_count": 1,
   "metadata": {},
   "outputs": [],
   "source": [
    "import os\n",
    "import numpy as np\n",
    "from astropy.io import fits\n",
    "import matplotlib.pyplot as plt\n",
    "# %matplotlib ipympl"
   ]
  },
  {
   "cell_type": "code",
   "execution_count": 2,
   "metadata": {},
   "outputs": [],
   "source": [
    "# url = \"https://s3.amazonaws.com/grizli-v2/JwstMosaics/v7/gds-grizli-v7.0-f115wn-clear_drc_sci.fits.gz\"\n",
    "url = \"/home/ec2-user/FlashStorage/image/GDS/gds-grizli-v7.2-f444w-clear_drc_sci.fits.gz\"\n",
    "image = fits.open(url)"
   ]
  },
  {
   "cell_type": "code",
   "execution_count": 3,
   "metadata": {},
   "outputs": [],
   "source": [
    "hdu = image[0].data\n",
    "header = image[0].header"
   ]
  },
  {
   "cell_type": "code",
   "execution_count": 4,
   "metadata": {},
   "outputs": [
    {
     "name": "stdout",
     "output_type": "stream",
     "text": [
      "Telescope      : JWST\n",
      "Instrument     : NIRCAM\n",
      "Filter         : F444W\n",
      "Pupil          : CLEAR\n",
      "Exposure time  : 344500.02499999956 s\n",
      "Date           : 2022-09-29 20:33:45.317\n",
      "Image size     : 14336 x 14336 px\n"
     ]
    }
   ],
   "source": [
    "naxis1 = header[\"NAXIS1\"]\n",
    "naxis2 = header[\"NAXIS2\"]\n",
    "telescop = header[\"TELESCOP\"]\n",
    "filter = header[\"FILTER\"]\n",
    "pupil = header[\"PUPIL\"] if telescop==\"JWST\" else None\n",
    "instrument = header[\"INSTRUME\"]\n",
    "exptime = header[\"EXPTIME\"]\n",
    "date = header[\"DATE-OBS\"]\n",
    "time = header[\"TIME-OBS\"]\n",
    "\n",
    "print(f\"{'Telescope':<15}: {telescop}\")\n",
    "print(f\"{'Instrument':<15}: {instrument}\")\n",
    "print(f\"{'Filter':<15}: {filter}\")\n",
    "print(f\"{'Pupil':<15}: {pupil}\")\n",
    "print(f\"{'Exposure time':<15}: {exptime} s\")\n",
    "print(f\"{'Date':<15}: {date} {time}\")\n",
    "print(f\"{'Image size':<15}: {naxis1} x {naxis2} px\")"
   ]
  },
  {
   "cell_type": "code",
   "execution_count": 5,
   "metadata": {},
   "outputs": [
    {
     "ename": "",
     "evalue": "",
     "output_type": "error",
     "traceback": [
      "\u001b[1;31mThe Kernel crashed while executing code in the current cell or a previous cell. \n",
      "\u001b[1;31mPlease review the code in the cell(s) to identify a possible cause of the failure. \n",
      "\u001b[1;31mClick <a href='https://aka.ms/vscodeJupyterKernelCrash'>here</a> for more info. \n",
      "\u001b[1;31mView Jupyter <a href='command:jupyter.viewOutput'>log</a> for further details."
     ]
    }
   ],
   "source": [
    "fig, ax = plt.subplots()\n",
    "ax.imshow(hdu, vmin=0, vmax=0.1, origin='lower', cmap='gray')\n",
    "plt.show()"
   ]
  },
  {
   "cell_type": "code",
   "execution_count": null,
   "metadata": {},
   "outputs": [],
   "source": []
  }
 ],
 "metadata": {
  "kernelspec": {
   "display_name": "base",
   "language": "python",
   "name": "python3"
  },
  "language_info": {
   "codemirror_mode": {
    "name": "ipython",
    "version": 3
   },
   "file_extension": ".py",
   "mimetype": "text/x-python",
   "name": "python",
   "nbconvert_exporter": "python",
   "pygments_lexer": "ipython3",
   "version": "3.10.14"
  }
 },
 "nbformat": 4,
 "nbformat_minor": 2
}
