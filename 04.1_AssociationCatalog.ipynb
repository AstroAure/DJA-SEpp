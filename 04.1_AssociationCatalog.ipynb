{
 "cells": [
  {
   "cell_type": "code",
   "execution_count": 1,
   "metadata": {},
   "outputs": [],
   "source": [
    "import glob\n",
    "import numpy as np\n",
    "import matplotlib.pyplot as plt\n",
    "from astropy.io import fits, ascii\n",
    "from astropy.table import Table\n",
    "from astropy.wcs import WCS\n",
    "import astropy.units as u\n",
    "from astropy.coordinates import SkyCoord\n",
    "from astropy.wcs.utils import skycoord_to_pixel, pixel_to_skycoord, proj_plane_pixel_scales\n",
    "from skimage.draw import ellipse\n",
    "from photutils.segmentation import detect_sources\n",
    "\n",
    "\n",
    "plt.rcParams['xtick.labelsize']='large'\n",
    "plt.rcParams['ytick.labelsize']='large'\n",
    "plt.rcParams['axes.labelsize']='x-large'\n",
    "plt.rcParams['legend.fontsize']='large'\n",
    "plt.rcParams['xtick.top']=True\n",
    "plt.rcParams['ytick.right']=True\n",
    "plt.rcParams['xtick.direction']='in'\n",
    "plt.rcParams['ytick.direction']='in'\n",
    "plt.rcParams['xtick.minor.visible']=True\n",
    "plt.rcParams['ytick.minor.visible']=True"
   ]
  },
  {
   "cell_type": "code",
   "execution_count": 25,
   "metadata": {},
   "outputs": [],
   "source": [
    "field = 'CEERS'\n",
    "with fits.open(glob.glob(f\"/home/aurelien/DAWN/DJA_SE++/image/{field}/cutout/*ir*sci*.fits\")[0], memmap=True) as hdul:\n",
    "    wcs = WCS(hdul[0].header)\n",
    "    mask = np.zeros(hdul[0].data.shape)\n",
    "with fits.open(glob.glob(f\"/home/aurelien/DAWN/DJA_SE++/image/{field}/dja/*fix_phot_apcorr.fits\")[0]) as hdul:\n",
    "    phot_dja = Table(hdul[1].data)"
   ]
  },
  {
   "cell_type": "code",
   "execution_count": 26,
   "metadata": {},
   "outputs": [
    {
     "name": "stderr",
     "output_type": "stream",
     "text": [
      "/home/aurelien/miniforge3/envs/dawn/lib/python3.9/site-packages/astropy/units/function/logarithmic.py:67: RuntimeWarning: invalid value encountered in log10\n",
      "  return dex.to(self._function_unit, np.log10(x))\n",
      "/tmp/ipykernel_26888/1260666297.py:5: RuntimeWarning: Mean of empty slice\n",
      "  mag_mean  = np.nanmean([(phot_dja[f'{filter}_tot_1']*10*u.nJy).to(u.ABmag).value for filter in filter_list], axis=0)\n"
     ]
    }
   ],
   "source": [
    "# Calculate mean fluxes and mag for initial values in model fitting\n",
    "filter_list = ['f115w','f150w','f277w','f444w']\n",
    "\n",
    "flux_mean = np.nanmean([phot_dja[f'{filter}_tot_1'] for filter in filter_list], axis=0)\n",
    "mag_mean  = np.nanmean([(phot_dja[f'{filter}_tot_1']*10*u.nJy).to(u.ABmag).value for filter in filter_list], axis=0)\n",
    "\n",
    "flux_mean = np.nan_to_num(flux_mean, nan=np.nanmean(phot_dja['f277w_tot_1']))\n",
    "mag_mean = np.nan_to_num(mag_mean, nan=25)"
   ]
  },
  {
   "cell_type": "code",
   "execution_count": 27,
   "metadata": {},
   "outputs": [],
   "source": [
    "# Create association catalog\n",
    "data = Table()\n",
    "data['ra'] = phot_dja['ra']                                    # 1\n",
    "data['dec'] = phot_dja['dec']                                  # 2\n",
    "data['group_id'] = np.arange(len(phot_dja))                    # 3\n",
    "data['flux_mean']  = flux_mean                                 # 4\n",
    "data['a_image'] = phot_dja['a_image']                          # 5\n",
    "data['b_image'] = phot_dja['b_image']                          # 6\n",
    "data['theta_image'] = phot_dja['theta_image']                  # 7\n",
    "data['axratio'] = phot_dja['a_image']/phot_dja['b_image']      # 8\n",
    "data['bigsize'] = phot_dja['a_image']*5                        # 9\n",
    "data['mag_mean'] = mag_mean                                    # 10\n",
    "px_scale = proj_plane_pixel_scales(wcs)[0]*3600\n",
    "data['bigsize'][data['bigsize'] < 5] = 5\n",
    "data['bigsize'][data['a_image'] > 0.9/px_scale] = 2/3 * 0.9/px_scale"
   ]
  },
  {
   "cell_type": "code",
   "execution_count": 28,
   "metadata": {},
   "outputs": [],
   "source": [
    "# Create segmentation map\n",
    "coord = SkyCoord(data['ra'], data['dec'], unit='deg')\n",
    "coord_px = skycoord_to_pixel(coord, wcs)\n",
    "coord_px_ra, coord_px_de = coord_px\n",
    "\n",
    "for i in range(len(data)):\n",
    "    # if (i % 10000) == 0:\n",
    "    #     print(i)\n",
    "    rr, cc = ellipse(coord_px_de[i], coord_px_ra[i], \n",
    "                     r_radius=np.clip(data['b_image'][i]*8, 0.6/px_scale, 10/px_scale), \n",
    "                     c_radius=np.clip(data['a_image'][i]*6, 0.6/px_scale, 10/px_scale), \n",
    "                     rotation=np.deg2rad(-data['theta_image'][i]))\n",
    "    inside = np.where((rr>=0)&(rr<mask.shape[0])&(cc>=0)&(cc<mask.shape[1]))[0]\n",
    "    rr = rr[inside]\n",
    "    cc = cc[inside]\n",
    "    mask[rr, cc] = 1\n",
    "segment_map = detect_sources(mask, threshold=0.1, npixels=1)\n",
    "\n",
    "for x,y,obj in zip(coord_px_ra, coord_px_de, data):\n",
    "    x = int(x)\n",
    "    y = int(y)\n",
    "    if (x>=0) & (y>=0) & (x<mask.shape[0]) & (y<mask.shape[1]):\n",
    "        if mask[y, x] == 1:\n",
    "            obj['group_id'] = int(segment_map.data[y, x])\n",
    "    else:\n",
    "        obj['group_id'] = -1"
   ]
  },
  {
   "cell_type": "code",
   "execution_count": 29,
   "metadata": {},
   "outputs": [
    {
     "data": {
      "image/png": "[encoded data removed]",
      "text/plain": [
       "<Figure size 600x600 with 1 Axes>"
      ]
     },
     "metadata": {},
     "output_type": "display_data"
    }
   ],
   "source": [
    "# Show segmentation map cutout\n",
    "fig, ax = plt.subplots(figsize=(6,6))\n",
    "ax.imshow(segment_map[mask.shape[0]//2-500:mask.shape[0]//2+500,mask.shape[1]//2-500:mask.shape[1]//2+500], \n",
    "          origin='lower', cmap=segment_map.cmap, interpolation='nearest')\n",
    "plt.show()"
   ]
  },
  {
   "cell_type": "code",
   "execution_count": 30,
   "metadata": {},
   "outputs": [],
   "source": [
    "# Save association catalog\n",
    "fname = \".\".join(glob.glob(f\"/home/aurelien/DAWN/DJA_SE++/image/{field}/cutout/*ir*sci*.fits\")[0].split(\"/\")[-1].split(\".\")[:-1])\n",
    "ascii.write(data, f\"/home/aurelien/DAWN/DJA_SE++/catalog/{field}/{fname}_assoc-cat.txt\", \n",
    "            overwrite=True, delimiter='\\t', comment='#', names=data.keys())"
   ]
  },
  {
   "cell_type": "code",
   "execution_count": null,
   "metadata": {},
   "outputs": [],
   "source": []
  }
 ],
 "metadata": {
  "kernelspec": {
   "display_name": "dawn",
   "language": "python",
   "name": "python3"
  },
  "language_info": {
   "codemirror_mode": {
    "name": "ipython",
    "version": 3
   },
   "file_extension": ".py",
   "mimetype": "text/x-python",
   "name": "python",
   "nbconvert_exporter": "python",
   "pygments_lexer": "ipython3",
   "version": "3.9.19"
  }
 },
 "nbformat": 4,
 "nbformat_minor": 2
}
