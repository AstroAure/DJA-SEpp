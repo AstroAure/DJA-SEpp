{
 "cells": [
  {
   "cell_type": "markdown",
   "metadata": {},
   "source": [
    "# Image download from AWS S3\n",
    "\n",
    "SourceXtractor++ (as SExtractor and PSFEx) need decompressed images to run. Therefore, before attempting to run any of the following notebooks, it is necessary to download and decompress the images from the DJA you will use. This notebook automates this process"
   ]
  },
  {
   "cell_type": "code",
   "execution_count": 1,
   "metadata": {},
   "outputs": [],
   "source": [
    "import dja_sepp"
   ]
  },
  {
   "cell_type": "markdown",
   "metadata": {},
   "source": [
    "## Batch download and decompress"
   ]
  },
  {
   "cell_type": "markdown",
   "metadata": {},
   "source": [
    "To select the files you want to download and decompress, you have to use a [regular expression](https://regexr.com/). This allows to create a filter to match only, and precisely, the images you wan to work with."
   ]
  },
  {
   "cell_type": "code",
   "execution_count": 2,
   "metadata": {},
   "outputs": [
    {
     "data": {
      "text/plain": [
       "['gds-grizli-v7.2-f090w-clear_drc_sci.fits.gz',\n",
       " 'gds-grizli-v7.2-f090w-clear_drc_wht.fits.gz',\n",
       " 'gds-grizli-v7.2-f115w-clear_drc_sci.fits.gz',\n",
       " 'gds-grizli-v7.2-f115w-clear_drc_wht.fits.gz',\n",
       " 'gds-grizli-v7.2-f150w-clear_drc_sci.fits.gz',\n",
       " 'gds-grizli-v7.2-f150w-clear_drc_wht.fits.gz',\n",
       " 'gds-grizli-v7.2-f182m-clear_drc_sci.fits.gz',\n",
       " 'gds-grizli-v7.2-f182m-clear_drc_wht.fits.gz',\n",
       " 'gds-grizli-v7.2-f200w-clear_drc_sci.fits.gz',\n",
       " 'gds-grizli-v7.2-f200w-clear_drc_wht.fits.gz',\n",
       " 'gds-grizli-v7.2-f210m-clear_drc_sci.fits.gz',\n",
       " 'gds-grizli-v7.2-f210m-clear_drc_wht.fits.gz',\n",
       " 'gds-grizli-v7.2-f250m-clear_drc_sci.fits.gz',\n",
       " 'gds-grizli-v7.2-f250m-clear_drc_wht.fits.gz',\n",
       " 'gds-grizli-v7.2-f277w-clear_drc_sci.fits.gz',\n",
       " 'gds-grizli-v7.2-f277w-clear_drc_wht.fits.gz',\n",
       " 'gds-grizli-v7.2-f300m-clear_drc_sci.fits.gz',\n",
       " 'gds-grizli-v7.2-f300m-clear_drc_wht.fits.gz',\n",
       " 'gds-grizli-v7.2-f335m-clear_drc_sci.fits.gz',\n",
       " 'gds-grizli-v7.2-f335m-clear_drc_wht.fits.gz',\n",
       " 'gds-grizli-v7.2-f356w-clear_drc_sci.fits.gz',\n",
       " 'gds-grizli-v7.2-f356w-clear_drc_wht.fits.gz',\n",
       " 'gds-grizli-v7.2-f410m-clear_drc_sci.fits.gz',\n",
       " 'gds-grizli-v7.2-f410m-clear_drc_wht.fits.gz',\n",
       " 'gds-grizli-v7.2-f430m-clear_drc_sci.fits.gz',\n",
       " 'gds-grizli-v7.2-f430m-clear_drc_wht.fits.gz',\n",
       " 'gds-grizli-v7.2-f444w-clear_drc_sci.fits.gz',\n",
       " 'gds-grizli-v7.2-f444w-clear_drc_wht.fits.gz',\n",
       " 'gds-grizli-v7.2-f460m-clear_drc_sci.fits.gz',\n",
       " 'gds-grizli-v7.2-f460m-clear_drc_wht.fits.gz',\n",
       " 'gds-grizli-v7.2-f480m-clear_drc_sci.fits.gz',\n",
       " 'gds-grizli-v7.2-f480m-clear_drc_wht.fits.gz',\n",
       " 'gds-grizli-v7.2-ir_drc_sci.fits.gz',\n",
       " 'gds-grizli-v7.2-ir_drc_wht.fits.gz']"
      ]
     },
     "execution_count": 2,
     "metadata": {},
     "output_type": "execute_result"
    }
   ],
   "source": [
    "files = dja_sepp.s3.find_files(bucket='grizli-v2', \n",
    "                               path='JwstMosaics/v7', \n",
    "                               regex=\".+gds-grizli.+v7.2.+((f\\d+(w|m)-.*clear_drc)|ir).+(sci|wht).+\")\n",
    "files"
   ]
  },
  {
   "cell_type": "markdown",
   "metadata": {},
   "source": [
    "We can then download and decompress all the selected images. The function `decompress_save_to_S3` can be used to automatically save the decompressed images to a S3 bucket for later use."
   ]
  },
  {
   "cell_type": "code",
   "execution_count": 3,
   "metadata": {},
   "outputs": [
    {
     "ename": "SyntaxError",
     "evalue": "invalid syntax. Perhaps you forgot a comma? (1954386726.py, line 7)",
     "output_type": "error",
     "traceback": [
      "\u001b[0;36m  Cell \u001b[0;32mIn[3], line 7\u001b[0;36m\u001b[0m\n\u001b[0;31m    out_bucket='aurelien-sepp', out_path=f\"{field}/image\"\u001b[0m\n\u001b[0m                                         ^\u001b[0m\n\u001b[0;31mSyntaxError\u001b[0m\u001b[0;31m:\u001b[0m invalid syntax. Perhaps you forgot a comma?\n"
     ]
    }
   ],
   "source": [
    "home = \"/FlashStorage/DAWN/\"\n",
    "field = 'GDS'\n",
    "for i, file_name in enumerate(files):\n",
    "    print(f\"{i+1}/{len(files)}\")\n",
    "    dja_sepp.s3.decompress_save_to_S3(file_name,\n",
    "                                      in_bucket='grizli-v2', in_path='JwstMosaics/v7',\n",
    "                                      out_bucket='aurelien-sepp', out_path=f\"{field}/image\",\n",
    "                                      temp_folder=f\"{home}/fields/{field}/image\",\n",
    "                                      deleting_file=False, verbose=True)"
   ]
  },
  {
   "cell_type": "markdown",
   "metadata": {},
   "source": [
    "## Download files\n",
    "\n",
    "If you have saved the decompressed images to a S3 bucket, you can them easily download them again with the following commands, to adapt to your needs and file naming."
   ]
  },
  {
   "cell_type": "code",
   "execution_count": 2,
   "metadata": {},
   "outputs": [],
   "source": [
    "import os\n",
    "import boto3\n",
    "s3 = boto3.client('s3')"
   ]
  },
  {
   "cell_type": "code",
   "execution_count": 6,
   "metadata": {},
   "outputs": [],
   "source": [
    "home = \"/home/aurelien/DAWN/DJA-SEpp\"\n",
    "field = 'primer-uds-north-grizli-v7.2'"
   ]
  },
  {
   "cell_type": "code",
   "execution_count": 4,
   "metadata": {},
   "outputs": [
    {
     "data": {
      "text/plain": [
       "['ceers-full-grizli-v7.2-f115w-clear_drc_sci.fits',\n",
       " 'ceers-full-grizli-v7.2-f115w-clear_drc_wht.fits',\n",
       " 'ceers-full-grizli-v7.2-f150w-clear_drc_sci.fits',\n",
       " 'ceers-full-grizli-v7.2-f150w-clear_drc_wht.fits',\n",
       " 'ceers-full-grizli-v7.2-f182m-clear_drc_sci.fits',\n",
       " 'ceers-full-grizli-v7.2-f182m-clear_drc_wht.fits',\n",
       " 'ceers-full-grizli-v7.2-f200w-clear_drc_sci.fits',\n",
       " 'ceers-full-grizli-v7.2-f200w-clear_drc_wht.fits',\n",
       " 'ceers-full-grizli-v7.2-f210m-clear_drc_sci.fits',\n",
       " 'ceers-full-grizli-v7.2-f210m-clear_drc_wht.fits',\n",
       " 'ceers-full-grizli-v7.2-f277w-clear_drc_sci.fits',\n",
       " 'ceers-full-grizli-v7.2-f277w-clear_drc_wht.fits',\n",
       " 'ceers-full-grizli-v7.2-f356w-clear_drc_sci.fits',\n",
       " 'ceers-full-grizli-v7.2-f356w-clear_drc_wht.fits',\n",
       " 'ceers-full-grizli-v7.2-f410m-clear_drc_sci.fits',\n",
       " 'ceers-full-grizli-v7.2-f410m-clear_drc_wht.fits',\n",
       " 'ceers-full-grizli-v7.2-f444w-clear_drc_sci.fits',\n",
       " 'ceers-full-grizli-v7.2-f444w-clear_drc_wht.fits',\n",
       " 'ceers-full-grizli-v7.2-ir_drc_sci.fits',\n",
       " 'ceers-full-grizli-v7.2-ir_drc_wht.fits',\n",
       " 'tiles/ceers-full-grizli-v7.2-f115w-clear_drc_sci_cutout_tile-0.fits',\n",
       " 'tiles/ceers-full-grizli-v7.2-f115w-clear_drc_sci_cutout_tile-1.fits',\n",
       " 'tiles/ceers-full-grizli-v7.2-f115w-clear_drc_sci_cutout_tile-2.fits',\n",
       " 'tiles/ceers-full-grizli-v7.2-f115w-clear_drc_sci_cutout_tile-3.fits',\n",
       " 'tiles/ceers-full-grizli-v7.2-f115w-clear_drc_sci_cutout_tile-4.fits',\n",
       " 'tiles/ceers-full-grizli-v7.2-f115w-clear_drc_sci_cutout_tile-5.fits',\n",
       " 'tiles/ceers-full-grizli-v7.2-f115w-clear_drc_sci_cutout_tile-6.fits',\n",
       " 'tiles/ceers-full-grizli-v7.2-f115w-clear_drc_sci_cutout_tile-7.fits',\n",
       " 'tiles/ceers-full-grizli-v7.2-f115w-clear_drc_sci_cutout_tile-8.fits',\n",
       " 'tiles/ceers-full-grizli-v7.2-f115w-clear_drc_wht_cutout_tile-0.fits',\n",
       " 'tiles/ceers-full-grizli-v7.2-f115w-clear_drc_wht_cutout_tile-1.fits',\n",
       " 'tiles/ceers-full-grizli-v7.2-f115w-clear_drc_wht_cutout_tile-2.fits',\n",
       " 'tiles/ceers-full-grizli-v7.2-f115w-clear_drc_wht_cutout_tile-3.fits',\n",
       " 'tiles/ceers-full-grizli-v7.2-f115w-clear_drc_wht_cutout_tile-4.fits',\n",
       " 'tiles/ceers-full-grizli-v7.2-f115w-clear_drc_wht_cutout_tile-5.fits',\n",
       " 'tiles/ceers-full-grizli-v7.2-f115w-clear_drc_wht_cutout_tile-6.fits',\n",
       " 'tiles/ceers-full-grizli-v7.2-f115w-clear_drc_wht_cutout_tile-7.fits',\n",
       " 'tiles/ceers-full-grizli-v7.2-f115w-clear_drc_wht_cutout_tile-8.fits',\n",
       " 'tiles/ceers-full-grizli-v7.2-f150w-clear_drc_sci_cutout_tile-0.fits',\n",
       " 'tiles/ceers-full-grizli-v7.2-f150w-clear_drc_sci_cutout_tile-1.fits',\n",
       " 'tiles/ceers-full-grizli-v7.2-f150w-clear_drc_sci_cutout_tile-2.fits',\n",
       " 'tiles/ceers-full-grizli-v7.2-f150w-clear_drc_sci_cutout_tile-3.fits',\n",
       " 'tiles/ceers-full-grizli-v7.2-f150w-clear_drc_sci_cutout_tile-4.fits',\n",
       " 'tiles/ceers-full-grizli-v7.2-f150w-clear_drc_sci_cutout_tile-5.fits',\n",
       " 'tiles/ceers-full-grizli-v7.2-f150w-clear_drc_sci_cutout_tile-6.fits',\n",
       " 'tiles/ceers-full-grizli-v7.2-f150w-clear_drc_sci_cutout_tile-7.fits',\n",
       " 'tiles/ceers-full-grizli-v7.2-f150w-clear_drc_sci_cutout_tile-8.fits',\n",
       " 'tiles/ceers-full-grizli-v7.2-f150w-clear_drc_wht_cutout_tile-0.fits',\n",
       " 'tiles/ceers-full-grizli-v7.2-f150w-clear_drc_wht_cutout_tile-1.fits',\n",
       " 'tiles/ceers-full-grizli-v7.2-f150w-clear_drc_wht_cutout_tile-2.fits',\n",
       " 'tiles/ceers-full-grizli-v7.2-f150w-clear_drc_wht_cutout_tile-3.fits',\n",
       " 'tiles/ceers-full-grizli-v7.2-f150w-clear_drc_wht_cutout_tile-4.fits',\n",
       " 'tiles/ceers-full-grizli-v7.2-f150w-clear_drc_wht_cutout_tile-5.fits',\n",
       " 'tiles/ceers-full-grizli-v7.2-f150w-clear_drc_wht_cutout_tile-6.fits',\n",
       " 'tiles/ceers-full-grizli-v7.2-f150w-clear_drc_wht_cutout_tile-7.fits',\n",
       " 'tiles/ceers-full-grizli-v7.2-f150w-clear_drc_wht_cutout_tile-8.fits',\n",
       " 'tiles/ceers-full-grizli-v7.2-f182m-clear_drc_sci_cutout_tile-0.fits',\n",
       " 'tiles/ceers-full-grizli-v7.2-f182m-clear_drc_sci_cutout_tile-1.fits',\n",
       " 'tiles/ceers-full-grizli-v7.2-f182m-clear_drc_sci_cutout_tile-2.fits',\n",
       " 'tiles/ceers-full-grizli-v7.2-f182m-clear_drc_sci_cutout_tile-3.fits',\n",
       " 'tiles/ceers-full-grizli-v7.2-f182m-clear_drc_sci_cutout_tile-4.fits',\n",
       " 'tiles/ceers-full-grizli-v7.2-f182m-clear_drc_sci_cutout_tile-5.fits',\n",
       " 'tiles/ceers-full-grizli-v7.2-f182m-clear_drc_sci_cutout_tile-6.fits',\n",
       " 'tiles/ceers-full-grizli-v7.2-f182m-clear_drc_sci_cutout_tile-7.fits',\n",
       " 'tiles/ceers-full-grizli-v7.2-f182m-clear_drc_sci_cutout_tile-8.fits',\n",
       " 'tiles/ceers-full-grizli-v7.2-f182m-clear_drc_wht_cutout_tile-0.fits',\n",
       " 'tiles/ceers-full-grizli-v7.2-f182m-clear_drc_wht_cutout_tile-1.fits',\n",
       " 'tiles/ceers-full-grizli-v7.2-f182m-clear_drc_wht_cutout_tile-2.fits',\n",
       " 'tiles/ceers-full-grizli-v7.2-f182m-clear_drc_wht_cutout_tile-3.fits',\n",
       " 'tiles/ceers-full-grizli-v7.2-f182m-clear_drc_wht_cutout_tile-4.fits',\n",
       " 'tiles/ceers-full-grizli-v7.2-f182m-clear_drc_wht_cutout_tile-5.fits',\n",
       " 'tiles/ceers-full-grizli-v7.2-f182m-clear_drc_wht_cutout_tile-6.fits',\n",
       " 'tiles/ceers-full-grizli-v7.2-f182m-clear_drc_wht_cutout_tile-7.fits',\n",
       " 'tiles/ceers-full-grizli-v7.2-f182m-clear_drc_wht_cutout_tile-8.fits',\n",
       " 'tiles/ceers-full-grizli-v7.2-f200w-clear_drc_sci_cutout_tile-0.fits',\n",
       " 'tiles/ceers-full-grizli-v7.2-f200w-clear_drc_sci_cutout_tile-1.fits',\n",
       " 'tiles/ceers-full-grizli-v7.2-f200w-clear_drc_sci_cutout_tile-2.fits',\n",
       " 'tiles/ceers-full-grizli-v7.2-f200w-clear_drc_sci_cutout_tile-3.fits',\n",
       " 'tiles/ceers-full-grizli-v7.2-f200w-clear_drc_sci_cutout_tile-4.fits',\n",
       " 'tiles/ceers-full-grizli-v7.2-f200w-clear_drc_sci_cutout_tile-5.fits',\n",
       " 'tiles/ceers-full-grizli-v7.2-f200w-clear_drc_sci_cutout_tile-6.fits',\n",
       " 'tiles/ceers-full-grizli-v7.2-f200w-clear_drc_sci_cutout_tile-7.fits',\n",
       " 'tiles/ceers-full-grizli-v7.2-f200w-clear_drc_sci_cutout_tile-8.fits',\n",
       " 'tiles/ceers-full-grizli-v7.2-f200w-clear_drc_wht_cutout_tile-0.fits',\n",
       " 'tiles/ceers-full-grizli-v7.2-f200w-clear_drc_wht_cutout_tile-1.fits',\n",
       " 'tiles/ceers-full-grizli-v7.2-f200w-clear_drc_wht_cutout_tile-2.fits',\n",
       " 'tiles/ceers-full-grizli-v7.2-f200w-clear_drc_wht_cutout_tile-3.fits',\n",
       " 'tiles/ceers-full-grizli-v7.2-f200w-clear_drc_wht_cutout_tile-4.fits',\n",
       " 'tiles/ceers-full-grizli-v7.2-f200w-clear_drc_wht_cutout_tile-5.fits',\n",
       " 'tiles/ceers-full-grizli-v7.2-f200w-clear_drc_wht_cutout_tile-6.fits',\n",
       " 'tiles/ceers-full-grizli-v7.2-f200w-clear_drc_wht_cutout_tile-7.fits',\n",
       " 'tiles/ceers-full-grizli-v7.2-f200w-clear_drc_wht_cutout_tile-8.fits',\n",
       " 'tiles/ceers-full-grizli-v7.2-f210m-clear_drc_sci_cutout_tile-0.fits',\n",
       " 'tiles/ceers-full-grizli-v7.2-f210m-clear_drc_sci_cutout_tile-1.fits',\n",
       " 'tiles/ceers-full-grizli-v7.2-f210m-clear_drc_sci_cutout_tile-2.fits',\n",
       " 'tiles/ceers-full-grizli-v7.2-f210m-clear_drc_sci_cutout_tile-3.fits',\n",
       " 'tiles/ceers-full-grizli-v7.2-f210m-clear_drc_sci_cutout_tile-4.fits',\n",
       " 'tiles/ceers-full-grizli-v7.2-f210m-clear_drc_sci_cutout_tile-5.fits',\n",
       " 'tiles/ceers-full-grizli-v7.2-f210m-clear_drc_sci_cutout_tile-6.fits',\n",
       " 'tiles/ceers-full-grizli-v7.2-f210m-clear_drc_sci_cutout_tile-7.fits',\n",
       " 'tiles/ceers-full-grizli-v7.2-f210m-clear_drc_sci_cutout_tile-8.fits',\n",
       " 'tiles/ceers-full-grizli-v7.2-f210m-clear_drc_wht_cutout_tile-0.fits',\n",
       " 'tiles/ceers-full-grizli-v7.2-f210m-clear_drc_wht_cutout_tile-1.fits',\n",
       " 'tiles/ceers-full-grizli-v7.2-f210m-clear_drc_wht_cutout_tile-2.fits',\n",
       " 'tiles/ceers-full-grizli-v7.2-f210m-clear_drc_wht_cutout_tile-3.fits',\n",
       " 'tiles/ceers-full-grizli-v7.2-f210m-clear_drc_wht_cutout_tile-4.fits',\n",
       " 'tiles/ceers-full-grizli-v7.2-f210m-clear_drc_wht_cutout_tile-5.fits',\n",
       " 'tiles/ceers-full-grizli-v7.2-f210m-clear_drc_wht_cutout_tile-6.fits',\n",
       " 'tiles/ceers-full-grizli-v7.2-f210m-clear_drc_wht_cutout_tile-7.fits',\n",
       " 'tiles/ceers-full-grizli-v7.2-f210m-clear_drc_wht_cutout_tile-8.fits',\n",
       " 'tiles/ceers-full-grizli-v7.2-f277w-clear_drc_sci_cutout_tile-0.fits',\n",
       " 'tiles/ceers-full-grizli-v7.2-f277w-clear_drc_sci_cutout_tile-1.fits',\n",
       " 'tiles/ceers-full-grizli-v7.2-f277w-clear_drc_sci_cutout_tile-2.fits',\n",
       " 'tiles/ceers-full-grizli-v7.2-f277w-clear_drc_sci_cutout_tile-3.fits',\n",
       " 'tiles/ceers-full-grizli-v7.2-f277w-clear_drc_sci_cutout_tile-4.fits',\n",
       " 'tiles/ceers-full-grizli-v7.2-f277w-clear_drc_sci_cutout_tile-5.fits',\n",
       " 'tiles/ceers-full-grizli-v7.2-f277w-clear_drc_sci_cutout_tile-6.fits',\n",
       " 'tiles/ceers-full-grizli-v7.2-f277w-clear_drc_sci_cutout_tile-7.fits',\n",
       " 'tiles/ceers-full-grizli-v7.2-f277w-clear_drc_sci_cutout_tile-8.fits',\n",
       " 'tiles/ceers-full-grizli-v7.2-f277w-clear_drc_wht_cutout_tile-0.fits',\n",
       " 'tiles/ceers-full-grizli-v7.2-f277w-clear_drc_wht_cutout_tile-1.fits',\n",
       " 'tiles/ceers-full-grizli-v7.2-f277w-clear_drc_wht_cutout_tile-2.fits',\n",
       " 'tiles/ceers-full-grizli-v7.2-f277w-clear_drc_wht_cutout_tile-3.fits',\n",
       " 'tiles/ceers-full-grizli-v7.2-f277w-clear_drc_wht_cutout_tile-4.fits',\n",
       " 'tiles/ceers-full-grizli-v7.2-f277w-clear_drc_wht_cutout_tile-5.fits',\n",
       " 'tiles/ceers-full-grizli-v7.2-f277w-clear_drc_wht_cutout_tile-6.fits',\n",
       " 'tiles/ceers-full-grizli-v7.2-f277w-clear_drc_wht_cutout_tile-7.fits',\n",
       " 'tiles/ceers-full-grizli-v7.2-f277w-clear_drc_wht_cutout_tile-8.fits',\n",
       " 'tiles/ceers-full-grizli-v7.2-f356w-clear_drc_sci_cutout_tile-0.fits',\n",
       " 'tiles/ceers-full-grizli-v7.2-f356w-clear_drc_sci_cutout_tile-1.fits',\n",
       " 'tiles/ceers-full-grizli-v7.2-f356w-clear_drc_sci_cutout_tile-2.fits',\n",
       " 'tiles/ceers-full-grizli-v7.2-f356w-clear_drc_sci_cutout_tile-3.fits',\n",
       " 'tiles/ceers-full-grizli-v7.2-f356w-clear_drc_sci_cutout_tile-4.fits',\n",
       " 'tiles/ceers-full-grizli-v7.2-f356w-clear_drc_sci_cutout_tile-5.fits',\n",
       " 'tiles/ceers-full-grizli-v7.2-f356w-clear_drc_sci_cutout_tile-6.fits',\n",
       " 'tiles/ceers-full-grizli-v7.2-f356w-clear_drc_sci_cutout_tile-7.fits',\n",
       " 'tiles/ceers-full-grizli-v7.2-f356w-clear_drc_sci_cutout_tile-8.fits',\n",
       " 'tiles/ceers-full-grizli-v7.2-f356w-clear_drc_wht_cutout_tile-0.fits',\n",
       " 'tiles/ceers-full-grizli-v7.2-f356w-clear_drc_wht_cutout_tile-1.fits',\n",
       " 'tiles/ceers-full-grizli-v7.2-f356w-clear_drc_wht_cutout_tile-2.fits',\n",
       " 'tiles/ceers-full-grizli-v7.2-f356w-clear_drc_wht_cutout_tile-3.fits',\n",
       " 'tiles/ceers-full-grizli-v7.2-f356w-clear_drc_wht_cutout_tile-4.fits',\n",
       " 'tiles/ceers-full-grizli-v7.2-f356w-clear_drc_wht_cutout_tile-5.fits',\n",
       " 'tiles/ceers-full-grizli-v7.2-f356w-clear_drc_wht_cutout_tile-6.fits',\n",
       " 'tiles/ceers-full-grizli-v7.2-f356w-clear_drc_wht_cutout_tile-7.fits',\n",
       " 'tiles/ceers-full-grizli-v7.2-f356w-clear_drc_wht_cutout_tile-8.fits',\n",
       " 'tiles/ceers-full-grizli-v7.2-f410m-clear_drc_sci_cutout_tile-0.fits',\n",
       " 'tiles/ceers-full-grizli-v7.2-f410m-clear_drc_sci_cutout_tile-1.fits',\n",
       " 'tiles/ceers-full-grizli-v7.2-f410m-clear_drc_sci_cutout_tile-2.fits',\n",
       " 'tiles/ceers-full-grizli-v7.2-f410m-clear_drc_sci_cutout_tile-3.fits',\n",
       " 'tiles/ceers-full-grizli-v7.2-f410m-clear_drc_sci_cutout_tile-4.fits',\n",
       " 'tiles/ceers-full-grizli-v7.2-f410m-clear_drc_sci_cutout_tile-5.fits',\n",
       " 'tiles/ceers-full-grizli-v7.2-f410m-clear_drc_sci_cutout_tile-6.fits',\n",
       " 'tiles/ceers-full-grizli-v7.2-f410m-clear_drc_sci_cutout_tile-7.fits',\n",
       " 'tiles/ceers-full-grizli-v7.2-f410m-clear_drc_sci_cutout_tile-8.fits',\n",
       " 'tiles/ceers-full-grizli-v7.2-f410m-clear_drc_wht_cutout_tile-0.fits',\n",
       " 'tiles/ceers-full-grizli-v7.2-f410m-clear_drc_wht_cutout_tile-1.fits',\n",
       " 'tiles/ceers-full-grizli-v7.2-f410m-clear_drc_wht_cutout_tile-2.fits',\n",
       " 'tiles/ceers-full-grizli-v7.2-f410m-clear_drc_wht_cutout_tile-3.fits',\n",
       " 'tiles/ceers-full-grizli-v7.2-f410m-clear_drc_wht_cutout_tile-4.fits',\n",
       " 'tiles/ceers-full-grizli-v7.2-f410m-clear_drc_wht_cutout_tile-5.fits',\n",
       " 'tiles/ceers-full-grizli-v7.2-f410m-clear_drc_wht_cutout_tile-6.fits',\n",
       " 'tiles/ceers-full-grizli-v7.2-f410m-clear_drc_wht_cutout_tile-7.fits',\n",
       " 'tiles/ceers-full-grizli-v7.2-f410m-clear_drc_wht_cutout_tile-8.fits',\n",
       " 'tiles/ceers-full-grizli-v7.2-f444w-clear_drc_sci_cutout_tile-0.fits',\n",
       " 'tiles/ceers-full-grizli-v7.2-f444w-clear_drc_sci_cutout_tile-1.fits',\n",
       " 'tiles/ceers-full-grizli-v7.2-f444w-clear_drc_sci_cutout_tile-2.fits',\n",
       " 'tiles/ceers-full-grizli-v7.2-f444w-clear_drc_sci_cutout_tile-3.fits',\n",
       " 'tiles/ceers-full-grizli-v7.2-f444w-clear_drc_sci_cutout_tile-4.fits',\n",
       " 'tiles/ceers-full-grizli-v7.2-f444w-clear_drc_sci_cutout_tile-5.fits',\n",
       " 'tiles/ceers-full-grizli-v7.2-f444w-clear_drc_sci_cutout_tile-6.fits',\n",
       " 'tiles/ceers-full-grizli-v7.2-f444w-clear_drc_sci_cutout_tile-7.fits',\n",
       " 'tiles/ceers-full-grizli-v7.2-f444w-clear_drc_sci_cutout_tile-8.fits',\n",
       " 'tiles/ceers-full-grizli-v7.2-f444w-clear_drc_wht_cutout_tile-0.fits',\n",
       " 'tiles/ceers-full-grizli-v7.2-f444w-clear_drc_wht_cutout_tile-1.fits',\n",
       " 'tiles/ceers-full-grizli-v7.2-f444w-clear_drc_wht_cutout_tile-2.fits',\n",
       " 'tiles/ceers-full-grizli-v7.2-f444w-clear_drc_wht_cutout_tile-3.fits',\n",
       " 'tiles/ceers-full-grizli-v7.2-f444w-clear_drc_wht_cutout_tile-4.fits',\n",
       " 'tiles/ceers-full-grizli-v7.2-f444w-clear_drc_wht_cutout_tile-5.fits',\n",
       " 'tiles/ceers-full-grizli-v7.2-f444w-clear_drc_wht_cutout_tile-6.fits',\n",
       " 'tiles/ceers-full-grizli-v7.2-f444w-clear_drc_wht_cutout_tile-7.fits',\n",
       " 'tiles/ceers-full-grizli-v7.2-f444w-clear_drc_wht_cutout_tile-8.fits',\n",
       " 'tiles/ceers-full-grizli-v7.2-ir_drc_sci_cutout_tile-0.fits',\n",
       " 'tiles/ceers-full-grizli-v7.2-ir_drc_sci_cutout_tile-1.fits',\n",
       " 'tiles/ceers-full-grizli-v7.2-ir_drc_sci_cutout_tile-2.fits',\n",
       " 'tiles/ceers-full-grizli-v7.2-ir_drc_sci_cutout_tile-3.fits',\n",
       " 'tiles/ceers-full-grizli-v7.2-ir_drc_sci_cutout_tile-4.fits',\n",
       " 'tiles/ceers-full-grizli-v7.2-ir_drc_sci_cutout_tile-5.fits',\n",
       " 'tiles/ceers-full-grizli-v7.2-ir_drc_sci_cutout_tile-6.fits',\n",
       " 'tiles/ceers-full-grizli-v7.2-ir_drc_sci_cutout_tile-7.fits',\n",
       " 'tiles/ceers-full-grizli-v7.2-ir_drc_sci_cutout_tile-8.fits',\n",
       " 'tiles/ceers-full-grizli-v7.2-ir_drc_wht_cutout_tile-0.fits',\n",
       " 'tiles/ceers-full-grizli-v7.2-ir_drc_wht_cutout_tile-1.fits',\n",
       " 'tiles/ceers-full-grizli-v7.2-ir_drc_wht_cutout_tile-2.fits',\n",
       " 'tiles/ceers-full-grizli-v7.2-ir_drc_wht_cutout_tile-3.fits',\n",
       " 'tiles/ceers-full-grizli-v7.2-ir_drc_wht_cutout_tile-4.fits',\n",
       " 'tiles/ceers-full-grizli-v7.2-ir_drc_wht_cutout_tile-5.fits',\n",
       " 'tiles/ceers-full-grizli-v7.2-ir_drc_wht_cutout_tile-6.fits',\n",
       " 'tiles/ceers-full-grizli-v7.2-ir_drc_wht_cutout_tile-7.fits',\n",
       " 'tiles/ceers-full-grizli-v7.2-ir_drc_wht_cutout_tile-8.fits']"
      ]
     },
     "execution_count": 4,
     "metadata": {},
     "output_type": "execute_result"
    }
   ],
   "source": [
    "files = dja_sepp.s3.find_files(bucket='aurelien-sepp', \n",
    "                               path=f'{field}/image', \n",
    "                               regex=\".+((f\\d+(w|m)-.*clear_drc)|ir).+(sci|wht).+\")\n",
    "files"
   ]
  },
  {
   "cell_type": "markdown",
   "metadata": {},
   "source": [
    "#### Download full image"
   ]
  },
  {
   "cell_type": "code",
   "execution_count": 5,
   "metadata": {},
   "outputs": [
    {
     "name": "stdout",
     "output_type": "stream",
     "text": [
      "ceers-full-grizli-v7.2-f115w-clear_drc_sci.fits\n",
      "ceers-full-grizli-v7.2-f115w-clear_drc_wht.fits\n"
     ]
    },
    {
     "ename": "KeyboardInterrupt",
     "evalue": "",
     "output_type": "error",
     "traceback": [
      "\u001b[0;31m---------------------------------------------------------------------------\u001b[0m",
      "\u001b[0;31mKeyboardInterrupt\u001b[0m                         Traceback (most recent call last)",
      "Cell \u001b[0;32mIn[5], line 5\u001b[0m\n\u001b[1;32m      3\u001b[0m \u001b[38;5;28;01mfor\u001b[39;00m file \u001b[38;5;129;01min\u001b[39;00m files:\n\u001b[1;32m      4\u001b[0m     \u001b[38;5;28mprint\u001b[39m(file)\n\u001b[0;32m----> 5\u001b[0m     \u001b[43ms3\u001b[49m\u001b[38;5;241;43m.\u001b[39;49m\u001b[43mdownload_file\u001b[49m\u001b[43m(\u001b[49m\u001b[38;5;124;43m'\u001b[39;49m\u001b[38;5;124;43maurelien-sepp\u001b[39;49m\u001b[38;5;124;43m'\u001b[39;49m\u001b[43m,\u001b[49m\u001b[43m \u001b[49m\u001b[38;5;124;43mf\u001b[39;49m\u001b[38;5;124;43m\"\u001b[39;49m\u001b[38;5;132;43;01m{\u001b[39;49;00m\u001b[43mfield\u001b[49m\u001b[38;5;132;43;01m}\u001b[39;49;00m\u001b[38;5;124;43m/image/\u001b[39;49m\u001b[38;5;132;43;01m{\u001b[39;49;00m\u001b[43mfile\u001b[49m\u001b[38;5;132;43;01m}\u001b[39;49;00m\u001b[38;5;124;43m\"\u001b[39;49m\u001b[43m,\u001b[49m\u001b[43m \u001b[49m\u001b[38;5;124;43mf\u001b[39;49m\u001b[38;5;124;43m\"\u001b[39;49m\u001b[38;5;132;43;01m{\u001b[39;49;00m\u001b[43mfolder\u001b[49m\u001b[38;5;132;43;01m}\u001b[39;49;00m\u001b[38;5;124;43m/\u001b[39;49m\u001b[38;5;132;43;01m{\u001b[39;49;00m\u001b[43mfile\u001b[49m\u001b[38;5;132;43;01m}\u001b[39;49;00m\u001b[38;5;124;43m\"\u001b[39;49m\u001b[43m)\u001b[49m\n",
      "File \u001b[0;32m~/miniforge3/envs/dawn/lib/python3.9/site-packages/boto3/s3/inject.py:192\u001b[0m, in \u001b[0;36mdownload_file\u001b[0;34m(self, Bucket, Key, Filename, ExtraArgs, Callback, Config)\u001b[0m\n\u001b[1;32m    157\u001b[0m \u001b[38;5;250m\u001b[39m\u001b[38;5;124;03m\"\"\"Download an S3 object to a file.\u001b[39;00m\n\u001b[1;32m    158\u001b[0m \n\u001b[1;32m    159\u001b[0m \u001b[38;5;124;03mUsage::\u001b[39;00m\n\u001b[0;32m   (...)\u001b[0m\n\u001b[1;32m    189\u001b[0m \u001b[38;5;124;03m    transfer.\u001b[39;00m\n\u001b[1;32m    190\u001b[0m \u001b[38;5;124;03m\"\"\"\u001b[39;00m\n\u001b[1;32m    191\u001b[0m \u001b[38;5;28;01mwith\u001b[39;00m S3Transfer(\u001b[38;5;28mself\u001b[39m, Config) \u001b[38;5;28;01mas\u001b[39;00m transfer:\n\u001b[0;32m--> 192\u001b[0m     \u001b[38;5;28;01mreturn\u001b[39;00m \u001b[43mtransfer\u001b[49m\u001b[38;5;241;43m.\u001b[39;49m\u001b[43mdownload_file\u001b[49m\u001b[43m(\u001b[49m\n\u001b[1;32m    193\u001b[0m \u001b[43m        \u001b[49m\u001b[43mbucket\u001b[49m\u001b[38;5;241;43m=\u001b[39;49m\u001b[43mBucket\u001b[49m\u001b[43m,\u001b[49m\n\u001b[1;32m    194\u001b[0m \u001b[43m        \u001b[49m\u001b[43mkey\u001b[49m\u001b[38;5;241;43m=\u001b[39;49m\u001b[43mKey\u001b[49m\u001b[43m,\u001b[49m\n\u001b[1;32m    195\u001b[0m \u001b[43m        \u001b[49m\u001b[43mfilename\u001b[49m\u001b[38;5;241;43m=\u001b[39;49m\u001b[43mFilename\u001b[49m\u001b[43m,\u001b[49m\n\u001b[1;32m    196\u001b[0m \u001b[43m        \u001b[49m\u001b[43mextra_args\u001b[49m\u001b[38;5;241;43m=\u001b[39;49m\u001b[43mExtraArgs\u001b[49m\u001b[43m,\u001b[49m\n\u001b[1;32m    197\u001b[0m \u001b[43m        \u001b[49m\u001b[43mcallback\u001b[49m\u001b[38;5;241;43m=\u001b[39;49m\u001b[43mCallback\u001b[49m\u001b[43m,\u001b[49m\n\u001b[1;32m    198\u001b[0m \u001b[43m    \u001b[49m\u001b[43m)\u001b[49m\n",
      "File \u001b[0;32m~/miniforge3/envs/dawn/lib/python3.9/site-packages/boto3/s3/transfer.py:405\u001b[0m, in \u001b[0;36mS3Transfer.download_file\u001b[0;34m(self, bucket, key, filename, extra_args, callback)\u001b[0m\n\u001b[1;32m    401\u001b[0m future \u001b[38;5;241m=\u001b[39m \u001b[38;5;28mself\u001b[39m\u001b[38;5;241m.\u001b[39m_manager\u001b[38;5;241m.\u001b[39mdownload(\n\u001b[1;32m    402\u001b[0m     bucket, key, filename, extra_args, subscribers\n\u001b[1;32m    403\u001b[0m )\n\u001b[1;32m    404\u001b[0m \u001b[38;5;28;01mtry\u001b[39;00m:\n\u001b[0;32m--> 405\u001b[0m     \u001b[43mfuture\u001b[49m\u001b[38;5;241;43m.\u001b[39;49m\u001b[43mresult\u001b[49m\u001b[43m(\u001b[49m\u001b[43m)\u001b[49m\n\u001b[1;32m    406\u001b[0m \u001b[38;5;66;03m# This is for backwards compatibility where when retries are\u001b[39;00m\n\u001b[1;32m    407\u001b[0m \u001b[38;5;66;03m# exceeded we need to throw the same error from boto3 instead of\u001b[39;00m\n\u001b[1;32m    408\u001b[0m \u001b[38;5;66;03m# s3transfer's built in RetriesExceededError as current users are\u001b[39;00m\n\u001b[1;32m    409\u001b[0m \u001b[38;5;66;03m# catching the boto3 one instead of the s3transfer exception to do\u001b[39;00m\n\u001b[1;32m    410\u001b[0m \u001b[38;5;66;03m# their own retries.\u001b[39;00m\n\u001b[1;32m    411\u001b[0m \u001b[38;5;28;01mexcept\u001b[39;00m S3TransferRetriesExceededError \u001b[38;5;28;01mas\u001b[39;00m e:\n",
      "File \u001b[0;32m~/miniforge3/envs/dawn/lib/python3.9/site-packages/s3transfer/futures.py:106\u001b[0m, in \u001b[0;36mTransferFuture.result\u001b[0;34m(self)\u001b[0m\n\u001b[1;32m    104\u001b[0m \u001b[38;5;28;01mexcept\u001b[39;00m \u001b[38;5;167;01mKeyboardInterrupt\u001b[39;00m \u001b[38;5;28;01mas\u001b[39;00m e:\n\u001b[1;32m    105\u001b[0m     \u001b[38;5;28mself\u001b[39m\u001b[38;5;241m.\u001b[39mcancel()\n\u001b[0;32m--> 106\u001b[0m     \u001b[38;5;28;01mraise\u001b[39;00m e\n",
      "File \u001b[0;32m~/miniforge3/envs/dawn/lib/python3.9/site-packages/s3transfer/futures.py:103\u001b[0m, in \u001b[0;36mTransferFuture.result\u001b[0;34m(self)\u001b[0m\n\u001b[1;32m     98\u001b[0m \u001b[38;5;28;01mdef\u001b[39;00m \u001b[38;5;21mresult\u001b[39m(\u001b[38;5;28mself\u001b[39m):\n\u001b[1;32m     99\u001b[0m     \u001b[38;5;28;01mtry\u001b[39;00m:\n\u001b[1;32m    100\u001b[0m         \u001b[38;5;66;03m# Usually the result() method blocks until the transfer is done,\u001b[39;00m\n\u001b[1;32m    101\u001b[0m         \u001b[38;5;66;03m# however if a KeyboardInterrupt is raised we want want to exit\u001b[39;00m\n\u001b[1;32m    102\u001b[0m         \u001b[38;5;66;03m# out of this and propagate the exception.\u001b[39;00m\n\u001b[0;32m--> 103\u001b[0m         \u001b[38;5;28;01mreturn\u001b[39;00m \u001b[38;5;28;43mself\u001b[39;49m\u001b[38;5;241;43m.\u001b[39;49m\u001b[43m_coordinator\u001b[49m\u001b[38;5;241;43m.\u001b[39;49m\u001b[43mresult\u001b[49m\u001b[43m(\u001b[49m\u001b[43m)\u001b[49m\n\u001b[1;32m    104\u001b[0m     \u001b[38;5;28;01mexcept\u001b[39;00m \u001b[38;5;167;01mKeyboardInterrupt\u001b[39;00m \u001b[38;5;28;01mas\u001b[39;00m e:\n\u001b[1;32m    105\u001b[0m         \u001b[38;5;28mself\u001b[39m\u001b[38;5;241m.\u001b[39mcancel()\n",
      "File \u001b[0;32m~/miniforge3/envs/dawn/lib/python3.9/site-packages/s3transfer/futures.py:261\u001b[0m, in \u001b[0;36mTransferCoordinator.result\u001b[0;34m(self)\u001b[0m\n\u001b[1;32m    251\u001b[0m \u001b[38;5;250m\u001b[39m\u001b[38;5;124;03m\"\"\"Waits until TransferFuture is done and returns the result\u001b[39;00m\n\u001b[1;32m    252\u001b[0m \n\u001b[1;32m    253\u001b[0m \u001b[38;5;124;03mIf the TransferFuture succeeded, it will return the result. If the\u001b[39;00m\n\u001b[1;32m    254\u001b[0m \u001b[38;5;124;03mTransferFuture failed, it will raise the exception associated to the\u001b[39;00m\n\u001b[1;32m    255\u001b[0m \u001b[38;5;124;03mfailure.\u001b[39;00m\n\u001b[1;32m    256\u001b[0m \u001b[38;5;124;03m\"\"\"\u001b[39;00m\n\u001b[1;32m    257\u001b[0m \u001b[38;5;66;03m# Doing a wait() with no timeout cannot be interrupted in python2 but\u001b[39;00m\n\u001b[1;32m    258\u001b[0m \u001b[38;5;66;03m# can be interrupted in python3 so we just wait with the largest\u001b[39;00m\n\u001b[1;32m    259\u001b[0m \u001b[38;5;66;03m# possible value integer value, which is on the scale of billions of\u001b[39;00m\n\u001b[1;32m    260\u001b[0m \u001b[38;5;66;03m# years...\u001b[39;00m\n\u001b[0;32m--> 261\u001b[0m \u001b[38;5;28;43mself\u001b[39;49m\u001b[38;5;241;43m.\u001b[39;49m\u001b[43m_done_event\u001b[49m\u001b[38;5;241;43m.\u001b[39;49m\u001b[43mwait\u001b[49m\u001b[43m(\u001b[49m\u001b[43mMAXINT\u001b[49m\u001b[43m)\u001b[49m\n\u001b[1;32m    263\u001b[0m \u001b[38;5;66;03m# Once done waiting, raise an exception if present or return the\u001b[39;00m\n\u001b[1;32m    264\u001b[0m \u001b[38;5;66;03m# final result.\u001b[39;00m\n\u001b[1;32m    265\u001b[0m \u001b[38;5;28;01mif\u001b[39;00m \u001b[38;5;28mself\u001b[39m\u001b[38;5;241m.\u001b[39m_exception:\n",
      "File \u001b[0;32m~/miniforge3/envs/dawn/lib/python3.9/threading.py:581\u001b[0m, in \u001b[0;36mEvent.wait\u001b[0;34m(self, timeout)\u001b[0m\n\u001b[1;32m    579\u001b[0m signaled \u001b[38;5;241m=\u001b[39m \u001b[38;5;28mself\u001b[39m\u001b[38;5;241m.\u001b[39m_flag\n\u001b[1;32m    580\u001b[0m \u001b[38;5;28;01mif\u001b[39;00m \u001b[38;5;129;01mnot\u001b[39;00m signaled:\n\u001b[0;32m--> 581\u001b[0m     signaled \u001b[38;5;241m=\u001b[39m \u001b[38;5;28;43mself\u001b[39;49m\u001b[38;5;241;43m.\u001b[39;49m\u001b[43m_cond\u001b[49m\u001b[38;5;241;43m.\u001b[39;49m\u001b[43mwait\u001b[49m\u001b[43m(\u001b[49m\u001b[43mtimeout\u001b[49m\u001b[43m)\u001b[49m\n\u001b[1;32m    582\u001b[0m \u001b[38;5;28;01mreturn\u001b[39;00m signaled\n",
      "File \u001b[0;32m~/miniforge3/envs/dawn/lib/python3.9/threading.py:312\u001b[0m, in \u001b[0;36mCondition.wait\u001b[0;34m(self, timeout)\u001b[0m\n\u001b[1;32m    310\u001b[0m \u001b[38;5;28;01mtry\u001b[39;00m:    \u001b[38;5;66;03m# restore state no matter what (e.g., KeyboardInterrupt)\u001b[39;00m\n\u001b[1;32m    311\u001b[0m     \u001b[38;5;28;01mif\u001b[39;00m timeout \u001b[38;5;129;01mis\u001b[39;00m \u001b[38;5;28;01mNone\u001b[39;00m:\n\u001b[0;32m--> 312\u001b[0m         \u001b[43mwaiter\u001b[49m\u001b[38;5;241;43m.\u001b[39;49m\u001b[43macquire\u001b[49m\u001b[43m(\u001b[49m\u001b[43m)\u001b[49m\n\u001b[1;32m    313\u001b[0m         gotit \u001b[38;5;241m=\u001b[39m \u001b[38;5;28;01mTrue\u001b[39;00m\n\u001b[1;32m    314\u001b[0m     \u001b[38;5;28;01melse\u001b[39;00m:\n",
      "\u001b[0;31mKeyboardInterrupt\u001b[0m: "
     ]
    }
   ],
   "source": [
    "folder = f\"{home}/fields/{field}/image\"\n",
    "os.makedirs(folder, exist_ok=True)\n",
    "for file in files:\n",
    "    print(file)\n",
    "    s3.download_file('aurelien-sepp', f\"{field}/image/{file}\", f\"{folder}/{file}\")"
   ]
  },
  {
   "cell_type": "markdown",
   "metadata": {},
   "source": [
    "#### Download full image (specific filters only)"
   ]
  },
  {
   "cell_type": "code",
   "execution_count": 10,
   "metadata": {},
   "outputs": [
    {
     "name": "stdout",
     "output_type": "stream",
     "text": [
      "gds-grizli-v7.2-f444w-clear_drc_sci.fits\n",
      "gds-grizli-v7.2-f444w-clear_drc_wht.fits\n"
     ]
    }
   ],
   "source": [
    "folder = f\"{home}/fields/{field}/image\"\n",
    "filter_list = ['f090w', 'f115w', 'f150w', 'f200w', 'f277w', 'f356w', 'f444w', 'ir']\n",
    "files_filter = [file for file in files if any([(filter in file) for filter in filter_list])]\n",
    "os.makedirs(folder, exist_ok=True)\n",
    "for file in files_filter:\n",
    "    print(file)\n",
    "    s3.download_file('aurelien-sepp', f\"{field}/image/{file}\", f\"{folder}/{file}\")"
   ]
  },
  {
   "cell_type": "markdown",
   "metadata": {},
   "source": [
    "#### Download star catalog"
   ]
  },
  {
   "cell_type": "code",
   "execution_count": 6,
   "metadata": {},
   "outputs": [],
   "source": [
    "folder = f\"{home}/fields/{field}/catalog\"\n",
    "os.makedirs(folder, exist_ok=True)\n",
    "s3.download_file('aurelien-sepp', f\"{field}/catalog/{field}_drc_cat_star.fits\", f\"{folder}/{field}_drc_cat_star.fits\")"
   ]
  },
  {
   "cell_type": "markdown",
   "metadata": {},
   "source": [
    "#### Download DJA catalog"
   ]
  },
  {
   "cell_type": "code",
   "execution_count": 4,
   "metadata": {},
   "outputs": [
    {
     "name": "stdout",
     "output_type": "stream",
     "text": [
      "ceers-full-grizli-v7.2-fix_phot_apcorr.fits\n"
     ]
    }
   ],
   "source": [
    "folder = f\"{home}/fields/{field}/catalog/dja\"\n",
    "os.makedirs(folder, exist_ok=True)\n",
    "cat_dja = dja_sepp.s3.find_files(bucket='grizli-v2', \n",
    "                                 path='JwstMosaics/v7', \n",
    "                                 regex=f\"{field}-fix_phot_apcorr.fits\")[0]\n",
    "print(cat_dja)\n",
    "s3.download_file('grizli-v2', f\"JwstMosaics/v7/{cat_dja}\", f\"{folder}/{cat_dja}\")"
   ]
  },
  {
   "cell_type": "markdown",
   "metadata": {},
   "source": [
    "#### Download DJA photo-z catalog"
   ]
  },
  {
   "cell_type": "code",
   "execution_count": 5,
   "metadata": {},
   "outputs": [
    {
     "name": "stdout",
     "output_type": "stream",
     "text": [
      "gds-grizli-v7.2-fix.photoz.tar.gz\n"
     ]
    }
   ],
   "source": [
    "import tarfile\n",
    "folder = f\"{home}/fields/{field}/catalog/dja\"\n",
    "os.makedirs(folder, exist_ok=True)\n",
    "cat_dja = dja_sepp.s3.find_files(bucket='grizli-v2', \n",
    "                                 path='JwstMosaics/v7', \n",
    "                                 regex=f\"{field}-fix.photoz.tar.gz\")[0]\n",
    "print(cat_dja)\n",
    "s3.download_file('grizli-v2', f\"JwstMosaics/v7/{cat_dja}\", f\"{folder}/{cat_dja}\")\n",
    "with tarfile.open(f\"{folder}/{cat_dja}\") as f:\n",
    "    fits = [name for name in f.getnames() if '.fits' in name]\n",
    "    for file in fits:\n",
    "        f.extract(file, folder)\n",
    "os.remove(f\"{folder}/{cat_dja}\")"
   ]
  },
  {
   "cell_type": "markdown",
   "metadata": {},
   "source": [
    "#### Download PSF"
   ]
  },
  {
   "cell_type": "code",
   "execution_count": 7,
   "metadata": {},
   "outputs": [
    {
     "name": "stdout",
     "output_type": "stream",
     "text": [
      "primer-uds-north-grizli-v7.2-f090w-clear_drc_cat_star_psf.psf\n",
      "primer-uds-north-grizli-v7.2-f115w-clear_drc_cat_star_psf.psf\n",
      "primer-uds-north-grizli-v7.2-f140m-clear_drc_cat_star_psf.psf\n",
      "primer-uds-north-grizli-v7.2-f150w-clear_drc_cat_star_psf.psf\n",
      "primer-uds-north-grizli-v7.2-f200w-clear_drc_cat_star_psf.psf\n",
      "primer-uds-north-grizli-v7.2-f277w-clear_drc_cat_star_psf.psf\n",
      "primer-uds-north-grizli-v7.2-f356w-clear_drc_cat_star_psf.psf\n",
      "primer-uds-north-grizli-v7.2-f410m-clear_drc_cat_star_psf.psf\n",
      "primer-uds-north-grizli-v7.2-f430m-clear_drc_cat_star_psf.psf\n",
      "primer-uds-north-grizli-v7.2-f444w-clear_drc_cat_star_psf.psf\n",
      "primer-uds-north-grizli-v7.2-f460m-clear_drc_cat_star_psf.psf\n"
     ]
    }
   ],
   "source": [
    "folder = f\"{home}/fields/{field}/psfex\"\n",
    "os.makedirs(folder, exist_ok=True)\n",
    "files = dja_sepp.s3.find_files(bucket='aurelien-sepp', \n",
    "                               path=f'{field}/psfex', \n",
    "                               regex=\".+\\.psf\")\n",
    "for file in files:\n",
    "    print(file)\n",
    "    s3.download_file('aurelien-sepp', f\"{field}/psfex/{file}\", f\"{folder}/{file}\")"
   ]
  }
 ],
 "metadata": {
  "kernelspec": {
   "display_name": "Python 3 (ipykernel)",
   "language": "python",
   "name": "python3"
  },
  "language_info": {
   "codemirror_mode": {
    "name": "ipython",
    "version": 3
   },
   "file_extension": ".py",
   "mimetype": "text/x-python",
   "name": "python",
   "nbconvert_exporter": "python",
   "pygments_lexer": "ipython3",
   "version": "3.9.19"
  }
 },
 "nbformat": 4,
 "nbformat_minor": 2
}
