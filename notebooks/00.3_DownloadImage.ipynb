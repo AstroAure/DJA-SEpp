{
 "cells": [
  {
   "cell_type": "markdown",
   "metadata": {},
   "source": [
    "# Image download from AWS S3\n",
    "\n",
    "SourceXtractor++ (as SExtractor and PSFEx) need decompressed images to run. Therefore, before attempting to run any of the following notebooks, it is necessary to download and decompress the images from the DJA you will use. This notebook automates this process"
   ]
  },
  {
   "cell_type": "code",
   "execution_count": 4,
   "metadata": {},
   "outputs": [],
   "source": [
    "import dja_sepp"
   ]
  },
  {
   "cell_type": "markdown",
   "metadata": {},
   "source": [
    "## Batch download and decompress"
   ]
  },
  {
   "cell_type": "markdown",
   "metadata": {},
   "source": [
    "To select the files you want to download and decompress, you have to use a [regular expression](https://regexr.com/). This allows to create a filter to match only, and precisely, the images you wan to work with."
   ]
  },
  {
   "cell_type": "code",
   "execution_count": 2,
   "metadata": {},
   "outputs": [
    {
     "data": {
      "text/plain": [
       "['gds-grizli-v7.2-f090w-clear_drc_sci.fits.gz',\n",
       " 'gds-grizli-v7.2-f090w-clear_drc_wht.fits.gz',\n",
       " 'gds-grizli-v7.2-f115w-clear_drc_sci.fits.gz',\n",
       " 'gds-grizli-v7.2-f115w-clear_drc_wht.fits.gz',\n",
       " 'gds-grizli-v7.2-f150w-clear_drc_sci.fits.gz',\n",
       " 'gds-grizli-v7.2-f150w-clear_drc_wht.fits.gz',\n",
       " 'gds-grizli-v7.2-f182m-clear_drc_sci.fits.gz',\n",
       " 'gds-grizli-v7.2-f182m-clear_drc_wht.fits.gz',\n",
       " 'gds-grizli-v7.2-f200w-clear_drc_sci.fits.gz',\n",
       " 'gds-grizli-v7.2-f200w-clear_drc_wht.fits.gz',\n",
       " 'gds-grizli-v7.2-f210m-clear_drc_sci.fits.gz',\n",
       " 'gds-grizli-v7.2-f210m-clear_drc_wht.fits.gz',\n",
       " 'gds-grizli-v7.2-f250m-clear_drc_sci.fits.gz',\n",
       " 'gds-grizli-v7.2-f250m-clear_drc_wht.fits.gz',\n",
       " 'gds-grizli-v7.2-f277w-clear_drc_sci.fits.gz',\n",
       " 'gds-grizli-v7.2-f277w-clear_drc_wht.fits.gz',\n",
       " 'gds-grizli-v7.2-f300m-clear_drc_sci.fits.gz',\n",
       " 'gds-grizli-v7.2-f300m-clear_drc_wht.fits.gz',\n",
       " 'gds-grizli-v7.2-f335m-clear_drc_sci.fits.gz',\n",
       " 'gds-grizli-v7.2-f335m-clear_drc_wht.fits.gz',\n",
       " 'gds-grizli-v7.2-f356w-clear_drc_sci.fits.gz',\n",
       " 'gds-grizli-v7.2-f356w-clear_drc_wht.fits.gz',\n",
       " 'gds-grizli-v7.2-f410m-clear_drc_sci.fits.gz',\n",
       " 'gds-grizli-v7.2-f410m-clear_drc_wht.fits.gz',\n",
       " 'gds-grizli-v7.2-f430m-clear_drc_sci.fits.gz',\n",
       " 'gds-grizli-v7.2-f430m-clear_drc_wht.fits.gz',\n",
       " 'gds-grizli-v7.2-f444w-clear_drc_sci.fits.gz',\n",
       " 'gds-grizli-v7.2-f444w-clear_drc_wht.fits.gz',\n",
       " 'gds-grizli-v7.2-f460m-clear_drc_sci.fits.gz',\n",
       " 'gds-grizli-v7.2-f460m-clear_drc_wht.fits.gz',\n",
       " 'gds-grizli-v7.2-f480m-clear_drc_sci.fits.gz',\n",
       " 'gds-grizli-v7.2-f480m-clear_drc_wht.fits.gz',\n",
       " 'gds-grizli-v7.2-ir_drc_sci.fits.gz',\n",
       " 'gds-grizli-v7.2-ir_drc_wht.fits.gz']"
      ]
     },
     "execution_count": 2,
     "metadata": {},
     "output_type": "execute_result"
    }
   ],
   "source": [
    "files = dja_sepp.s3.find_files(bucket='grizli-v2', \n",
    "                               path='JwstMosaics/v7', \n",
    "                               regex=\".+gds-grizli.+v7.2.+((f\\d+(w|m)-.*clear_drc)|ir).+(sci|wht).+\")\n",
    "files"
   ]
  },
  {
   "cell_type": "markdown",
   "metadata": {},
   "source": [
    "We can then download and decompress all the selected images. The function `decompress_save_to_S3` can be used to automatically save the decompressed images to a S3 bucket for later use."
   ]
  },
  {
   "cell_type": "code",
   "execution_count": 6,
   "metadata": {},
   "outputs": [
    {
     "name": "stdout",
     "output_type": "stream",
     "text": [
      "1/18\n",
      "Downloading : https://s3.amazonaws.com/grizli-v2/JwstMosaics/v7/gds-grizli-v7.2-f182m-clear_drc_sci.fits.gz\n",
      "Decompressing : /FlashStorage/tmp/gds-grizli-v7.2-f182m-clear_drc_sci.fits.gz\n",
      "Removing : /FlashStorage/tmp/gds-grizli-v7.2-f182m-clear_drc_sci.fits.gz\n",
      "Uploading : https://s3.amazonaws.com/aurelien-sepp/image/GDS/gds-grizli-v7.2-f182m-clear_drc_sci.fits\n",
      "2/18\n",
      "Downloading : https://s3.amazonaws.com/grizli-v2/JwstMosaics/v7/gds-grizli-v7.2-f182m-clear_drc_wht.fits.gz\n",
      "Decompressing : /FlashStorage/tmp/gds-grizli-v7.2-f182m-clear_drc_wht.fits.gz\n",
      "Removing : /FlashStorage/tmp/gds-grizli-v7.2-f182m-clear_drc_wht.fits.gz\n",
      "Uploading : https://s3.amazonaws.com/aurelien-sepp/image/GDS/gds-grizli-v7.2-f182m-clear_drc_wht.fits\n",
      "3/18\n",
      "Downloading : https://s3.amazonaws.com/grizli-v2/JwstMosaics/v7/gds-grizli-v7.2-f210m-clear_drc_sci.fits.gz\n",
      "Decompressing : /FlashStorage/tmp/gds-grizli-v7.2-f210m-clear_drc_sci.fits.gz\n",
      "Removing : /FlashStorage/tmp/gds-grizli-v7.2-f210m-clear_drc_sci.fits.gz\n",
      "Uploading : https://s3.amazonaws.com/aurelien-sepp/image/GDS/gds-grizli-v7.2-f210m-clear_drc_sci.fits\n",
      "4/18\n",
      "Downloading : https://s3.amazonaws.com/grizli-v2/JwstMosaics/v7/gds-grizli-v7.2-f210m-clear_drc_wht.fits.gz\n",
      "Decompressing : /FlashStorage/tmp/gds-grizli-v7.2-f210m-clear_drc_wht.fits.gz\n",
      "Removing : /FlashStorage/tmp/gds-grizli-v7.2-f210m-clear_drc_wht.fits.gz\n",
      "Uploading : https://s3.amazonaws.com/aurelien-sepp/image/GDS/gds-grizli-v7.2-f210m-clear_drc_wht.fits\n",
      "5/18\n",
      "Downloading : https://s3.amazonaws.com/grizli-v2/JwstMosaics/v7/gds-grizli-v7.2-f250m-clear_drc_sci.fits.gz\n",
      "Decompressing : /FlashStorage/tmp/gds-grizli-v7.2-f250m-clear_drc_sci.fits.gz\n",
      "Removing : /FlashStorage/tmp/gds-grizli-v7.2-f250m-clear_drc_sci.fits.gz\n",
      "Uploading : https://s3.amazonaws.com/aurelien-sepp/image/GDS/gds-grizli-v7.2-f250m-clear_drc_sci.fits\n",
      "6/18\n",
      "Downloading : https://s3.amazonaws.com/grizli-v2/JwstMosaics/v7/gds-grizli-v7.2-f250m-clear_drc_wht.fits.gz\n",
      "Decompressing : /FlashStorage/tmp/gds-grizli-v7.2-f250m-clear_drc_wht.fits.gz\n",
      "Removing : /FlashStorage/tmp/gds-grizli-v7.2-f250m-clear_drc_wht.fits.gz\n",
      "Uploading : https://s3.amazonaws.com/aurelien-sepp/image/GDS/gds-grizli-v7.2-f250m-clear_drc_wht.fits\n",
      "7/18\n",
      "Downloading : https://s3.amazonaws.com/grizli-v2/JwstMosaics/v7/gds-grizli-v7.2-f300m-clear_drc_sci.fits.gz\n",
      "Decompressing : /FlashStorage/tmp/gds-grizli-v7.2-f300m-clear_drc_sci.fits.gz\n",
      "Removing : /FlashStorage/tmp/gds-grizli-v7.2-f300m-clear_drc_sci.fits.gz\n",
      "Uploading : https://s3.amazonaws.com/aurelien-sepp/image/GDS/gds-grizli-v7.2-f300m-clear_drc_sci.fits\n",
      "8/18\n",
      "Downloading : https://s3.amazonaws.com/grizli-v2/JwstMosaics/v7/gds-grizli-v7.2-f300m-clear_drc_wht.fits.gz\n",
      "Decompressing : /FlashStorage/tmp/gds-grizli-v7.2-f300m-clear_drc_wht.fits.gz\n",
      "Removing : /FlashStorage/tmp/gds-grizli-v7.2-f300m-clear_drc_wht.fits.gz\n",
      "Uploading : https://s3.amazonaws.com/aurelien-sepp/image/GDS/gds-grizli-v7.2-f300m-clear_drc_wht.fits\n",
      "9/18\n",
      "Downloading : https://s3.amazonaws.com/grizli-v2/JwstMosaics/v7/gds-grizli-v7.2-f335m-clear_drc_sci.fits.gz\n",
      "Decompressing : /FlashStorage/tmp/gds-grizli-v7.2-f335m-clear_drc_sci.fits.gz\n",
      "Removing : /FlashStorage/tmp/gds-grizli-v7.2-f335m-clear_drc_sci.fits.gz\n",
      "Uploading : https://s3.amazonaws.com/aurelien-sepp/image/GDS/gds-grizli-v7.2-f335m-clear_drc_sci.fits\n",
      "10/18\n",
      "Downloading : https://s3.amazonaws.com/grizli-v2/JwstMosaics/v7/gds-grizli-v7.2-f335m-clear_drc_wht.fits.gz\n",
      "Decompressing : /FlashStorage/tmp/gds-grizli-v7.2-f335m-clear_drc_wht.fits.gz\n",
      "Removing : /FlashStorage/tmp/gds-grizli-v7.2-f335m-clear_drc_wht.fits.gz\n",
      "Uploading : https://s3.amazonaws.com/aurelien-sepp/image/GDS/gds-grizli-v7.2-f335m-clear_drc_wht.fits\n",
      "11/18\n",
      "Downloading : https://s3.amazonaws.com/grizli-v2/JwstMosaics/v7/gds-grizli-v7.2-f410m-clear_drc_sci.fits.gz\n",
      "Decompressing : /FlashStorage/tmp/gds-grizli-v7.2-f410m-clear_drc_sci.fits.gz\n",
      "Removing : /FlashStorage/tmp/gds-grizli-v7.2-f410m-clear_drc_sci.fits.gz\n",
      "Uploading : https://s3.amazonaws.com/aurelien-sepp/image/GDS/gds-grizli-v7.2-f410m-clear_drc_sci.fits\n",
      "12/18\n",
      "Downloading : https://s3.amazonaws.com/grizli-v2/JwstMosaics/v7/gds-grizli-v7.2-f410m-clear_drc_wht.fits.gz\n",
      "Decompressing : /FlashStorage/tmp/gds-grizli-v7.2-f410m-clear_drc_wht.fits.gz\n",
      "Removing : /FlashStorage/tmp/gds-grizli-v7.2-f410m-clear_drc_wht.fits.gz\n",
      "Uploading : https://s3.amazonaws.com/aurelien-sepp/image/GDS/gds-grizli-v7.2-f410m-clear_drc_wht.fits\n",
      "13/18\n",
      "Downloading : https://s3.amazonaws.com/grizli-v2/JwstMosaics/v7/gds-grizli-v7.2-f430m-clear_drc_sci.fits.gz\n",
      "Decompressing : /FlashStorage/tmp/gds-grizli-v7.2-f430m-clear_drc_sci.fits.gz\n",
      "Removing : /FlashStorage/tmp/gds-grizli-v7.2-f430m-clear_drc_sci.fits.gz\n",
      "Uploading : https://s3.amazonaws.com/aurelien-sepp/image/GDS/gds-grizli-v7.2-f430m-clear_drc_sci.fits\n",
      "14/18\n",
      "Downloading : https://s3.amazonaws.com/grizli-v2/JwstMosaics/v7/gds-grizli-v7.2-f430m-clear_drc_wht.fits.gz\n",
      "Decompressing : /FlashStorage/tmp/gds-grizli-v7.2-f430m-clear_drc_wht.fits.gz\n",
      "Removing : /FlashStorage/tmp/gds-grizli-v7.2-f430m-clear_drc_wht.fits.gz\n",
      "Uploading : https://s3.amazonaws.com/aurelien-sepp/image/GDS/gds-grizli-v7.2-f430m-clear_drc_wht.fits\n",
      "15/18\n",
      "Downloading : https://s3.amazonaws.com/grizli-v2/JwstMosaics/v7/gds-grizli-v7.2-f460m-clear_drc_sci.fits.gz\n",
      "Decompressing : /FlashStorage/tmp/gds-grizli-v7.2-f460m-clear_drc_sci.fits.gz\n",
      "Removing : /FlashStorage/tmp/gds-grizli-v7.2-f460m-clear_drc_sci.fits.gz\n",
      "Uploading : https://s3.amazonaws.com/aurelien-sepp/image/GDS/gds-grizli-v7.2-f460m-clear_drc_sci.fits\n",
      "16/18\n",
      "Downloading : https://s3.amazonaws.com/grizli-v2/JwstMosaics/v7/gds-grizli-v7.2-f460m-clear_drc_wht.fits.gz\n",
      "Decompressing : /FlashStorage/tmp/gds-grizli-v7.2-f460m-clear_drc_wht.fits.gz\n",
      "Removing : /FlashStorage/tmp/gds-grizli-v7.2-f460m-clear_drc_wht.fits.gz\n",
      "Uploading : https://s3.amazonaws.com/aurelien-sepp/image/GDS/gds-grizli-v7.2-f460m-clear_drc_wht.fits\n",
      "17/18\n",
      "Downloading : https://s3.amazonaws.com/grizli-v2/JwstMosaics/v7/gds-grizli-v7.2-f480m-clear_drc_sci.fits.gz\n",
      "Decompressing : /FlashStorage/tmp/gds-grizli-v7.2-f480m-clear_drc_sci.fits.gz\n",
      "Removing : /FlashStorage/tmp/gds-grizli-v7.2-f480m-clear_drc_sci.fits.gz\n",
      "Uploading : https://s3.amazonaws.com/aurelien-sepp/image/GDS/gds-grizli-v7.2-f480m-clear_drc_sci.fits\n",
      "18/18\n",
      "Downloading : https://s3.amazonaws.com/grizli-v2/JwstMosaics/v7/gds-grizli-v7.2-f480m-clear_drc_wht.fits.gz\n",
      "Decompressing : /FlashStorage/tmp/gds-grizli-v7.2-f480m-clear_drc_wht.fits.gz\n",
      "Removing : /FlashStorage/tmp/gds-grizli-v7.2-f480m-clear_drc_wht.fits.gz\n",
      "Uploading : https://s3.amazonaws.com/aurelien-sepp/image/GDS/gds-grizli-v7.2-f480m-clear_drc_wht.fits\n"
     ]
    }
   ],
   "source": [
    "home = \"/home/aurelien/DAWN/DJA-SEpp\"\n",
    "field = 'GDS'\n",
    "for i, file_name in enumerate(files):\n",
    "    print(f\"{i+1}/{len(files)}\")\n",
    "    dja_sepp.s3.decompress_save_to_S3(file_name,\n",
    "                                      in_bucket='grizli-v2', in_path='JwstMosaics/v7',\n",
    "                                      out_bucket='aurelien-sepp', out_path=f\"{field}/image\"\n",
    "                                      temp_folder=f\"{home}/fields/{field}/image\",\n",
    "                                      deleting_file=False, verbose=True)"
   ]
  },
  {
   "cell_type": "markdown",
   "metadata": {},
   "source": [
    "## Download files\n",
    "\n",
    "If you have saved the decompressed images to a S3 bucket, you can them easily download them again with the following commands, to adapt to your needs and file naming."
   ]
  },
  {
   "cell_type": "code",
   "execution_count": 1,
   "metadata": {},
   "outputs": [],
   "source": [
    "import os\n",
    "import boto3\n",
    "s3 = boto3.client('s3')"
   ]
  },
  {
   "cell_type": "code",
   "execution_count": 2,
   "metadata": {},
   "outputs": [],
   "source": [
    "home = \"/home/aurelien/DAWN/DJA-SEpp\"\n",
    "field = 'GDS'"
   ]
  },
  {
   "cell_type": "code",
   "execution_count": 6,
   "metadata": {},
   "outputs": [
    {
     "data": {
      "text/plain": [
       "['gds-grizli-v7.2-f115w-clear_drc_sci.fits',\n",
       " 'gds-grizli-v7.2-f115w-clear_drc_wht.fits',\n",
       " 'gds-grizli-v7.2-f150w-clear_drc_sci.fits',\n",
       " 'gds-grizli-v7.2-f182m-clear_drc_sci.fits',\n",
       " 'gds-grizli-v7.2-f200w-clear_drc_sci.fits',\n",
       " 'gds-grizli-v7.2-f210m-clear_drc_wht.fits',\n",
       " 'gds-grizli-v7.2-f277w-clear_drc_sci.fits',\n",
       " 'gds-grizli-v7.2-f277w-clear_drc_wht.fits',\n",
       " 'gds-grizli-v7.2-f356w-clear_drc_sci.fits',\n",
       " 'gds-grizli-v7.2-f356w-clear_drc_wht.fits',\n",
       " 'gds-grizli-v7.2-f410m-clear_drc_sci.fits',\n",
       " 'gds-grizli-v7.2-f410m-clear_drc_wht.fits',\n",
       " 'gds-grizli-v7.2-f430m-clear_drc_sci.fits',\n",
       " 'gds-grizli-v7.2-f430m-clear_drc_wht.fits',\n",
       " 'gds-grizli-v7.2-f444w-clear_drc_sci.fits',\n",
       " 'gds-grizli-v7.2-f444w-clear_drc_wht.fits',\n",
       " 'gds-grizli-v7.2-f460m-clear_drc_sci.fits',\n",
       " 'gds-grizli-v7.2-f460m-clear_drc_wht.fits',\n",
       " 'gds-grizli-v7.2-f480m-clear_drc_sci.fits',\n",
       " 'gds-grizli-v7.2-f480m-clear_drc_wht.fits',\n",
       " 'gds-grizli-v7.2-ir_drc_sci.fits',\n",
       " 'gds-grizli-v7.2-ir_drc_wht.fits']"
      ]
     },
     "execution_count": 6,
     "metadata": {},
     "output_type": "execute_result"
    }
   ],
   "source": [
    "files = dja_sepp.s3.find_files(bucket='aurelien-sepp', \n",
    "                               path=f'{field}/image', \n",
    "                               regex=\".+((f\\d+(w|m)-.*clear_drc)|ir).+(sci|wht).+\")\n",
    "files"
   ]
  },
  {
   "cell_type": "markdown",
   "metadata": {},
   "source": [
    "#### Download full image"
   ]
  },
  {
   "cell_type": "code",
   "execution_count": 14,
   "metadata": {},
   "outputs": [
    {
     "name": "stdout",
     "output_type": "stream",
     "text": [
      "gds-grizli-v7.2-f090w-clear_drc_sci.fits\n",
      "gds-grizli-v7.2-f090w-clear_drc_wht.fits\n",
      "gds-grizli-v7.2-f115w-clear_drc_sci.fits\n",
      "gds-grizli-v7.2-f115w-clear_drc_wht.fits\n",
      "gds-grizli-v7.2-f150w-clear_drc_sci.fits\n",
      "gds-grizli-v7.2-f150w-clear_drc_wht.fits\n",
      "gds-grizli-v7.2-f200w-clear_drc_sci.fits\n",
      "gds-grizli-v7.2-f200w-clear_drc_wht.fits\n",
      "gds-grizli-v7.2-f277w-clear_drc_sci.fits\n",
      "gds-grizli-v7.2-f277w-clear_drc_wht.fits\n",
      "gds-grizli-v7.2-f356w-clear_drc_sci.fits\n",
      "gds-grizli-v7.2-f356w-clear_drc_wht.fits\n",
      "gds-grizli-v7.2-f444w-clear_drc_sci.fits\n",
      "gds-grizli-v7.2-f444w-clear_drc_wht.fits\n",
      "gds-grizli-v7.2-ir_drc_sci.fits\n",
      "gds-grizli-v7.2-ir_drc_wht.fits\n"
     ]
    }
   ],
   "source": [
    "folder = f\"{home}/fields/{field}/image\"\n",
    "os.makedirs(folder, exist_ok=True)\n",
    "for file in files:\n",
    "    print(file)\n",
    "    s3.download_file('aurelien-sepp', f\"{field}/image/{file}\", f\"{folder}/{file}\")"
   ]
  },
  {
   "cell_type": "markdown",
   "metadata": {},
   "source": [
    "#### Download full image (specific filters only)"
   ]
  },
  {
   "cell_type": "code",
   "execution_count": 7,
   "metadata": {},
   "outputs": [
    {
     "name": "stdout",
     "output_type": "stream",
     "text": [
      "f090w\n",
      "f115w\n",
      "f150w\n",
      "f200w\n",
      "f277w\n",
      "f356w\n",
      "f444w\n"
     ]
    }
   ],
   "source": [
    "folder = f\"{home}/fields/{field}/image\"\n",
    "filter_list = ['f090w', 'f115w', 'f150w', 'f200w', 'f277w', 'f356w', 'f400w', 'ir']\n",
    "files_filter = [file for file in files if any([(filter in file) for filter in filter_list])]\n",
    "os.makedirs(folder, exist_ok=True)\n",
    "for file in files:\n",
    "    print(file)\n",
    "    s3.download_file('aurelien-sepp', f\"{field}/image/{file}\", f\"{folder}/{file}\")"
   ]
  },
  {
   "cell_type": "markdown",
   "metadata": {},
   "source": [
    "#### Download star catalog"
   ]
  },
  {
   "cell_type": "code",
   "execution_count": 6,
   "metadata": {},
   "outputs": [],
   "source": [
    "folder = f\"{home}/fields/{field}/catalog\"\n",
    "os.makedirs(folder, exist_ok=True)\n",
    "s3.download_file('aurelien-sepp', f\"{field}/catalog/{field}_drc_cat_star.fits\", f\"{folder}/{field}_drc_cat_star.fits\")"
   ]
  },
  {
   "cell_type": "markdown",
   "metadata": {},
   "source": [
    "#### Download DJA catalog"
   ]
  },
  {
   "cell_type": "code",
   "execution_count": 9,
   "metadata": {},
   "outputs": [
    {
     "name": "stdout",
     "output_type": "stream",
     "text": [
      "gds-grizli-v7.2-fix_phot_apcorr.fits\n"
     ]
    }
   ],
   "source": [
    "folder = f\"{home}/fields/{field}/catalog/dja\"\n",
    "os.makedirs(folder, exist_ok=True)\n",
    "cat_dja = dja_sepp.s3.find_files(bucket='grizli-v2', \n",
    "                                 path='JwstMosaics/v7', \n",
    "                                 regex=\"gds.+v7.2-fix_phot_apcorr.fits\")[0]\n",
    "print(cat_dja)\n",
    "s3.download_file('grizli-v2', f\"JwstMosaics/v7/{cat_dja}\", f\"{folder}/{cat_dja}\")"
   ]
  }
 ],
 "metadata": {
  "kernelspec": {
   "display_name": "Python 3 (ipykernel)",
   "language": "python",
   "name": "python3"
  },
  "language_info": {
   "codemirror_mode": {
    "name": "ipython",
    "version": 3
   },
   "file_extension": ".py",
   "mimetype": "text/x-python",
   "name": "python",
   "nbconvert_exporter": "python",
   "pygments_lexer": "ipython3",
   "version": "3.9.19"
  }
 },
 "nbformat": 4,
 "nbformat_minor": 2
}
