{
 "cells": [
  {
   "cell_type": "markdown",
   "metadata": {},
   "source": [
    "# PSF estimation\n",
    "\n",
    "This notebook calculates the empirical PSF (Point Spread Function) from images in different bands. It's used as a preliminary step to SourceXtractor++, which requires PSF for source modeling. \n",
    "\n",
    "To calculate the PSFs, it first detects, using SExtractor, point-like sources in an image (by default the F200W band for JWST, as it gave the best results during testing), and then uses this catalog of sources to extract vignets of the point-like sources in all the bands. Then, it uses PSFEx to create the PSF for each band.\n",
    "\n",
    "To work, this notebook requires you to have [PSFEx](https://psfex.readthedocs.io/en/latest/) and [SExtractor](https://sextractor.readthedocs.io/en/latest/Introduction.html) installed on your machine."
   ]
  },
  {
   "cell_type": "code",
   "execution_count": 2,
   "metadata": {},
   "outputs": [],
   "source": [
    "import glob\n",
    "import re\n",
    "import boto3\n",
    "import sys\n",
    "import dja_sepp"
   ]
  },
  {
   "cell_type": "code",
   "execution_count": 3,
   "metadata": {},
   "outputs": [],
   "source": [
    "# Choice of the field (for file organization)\n",
    "field = 'GDS'"
   ]
  },
  {
   "cell_type": "markdown",
   "metadata": {},
   "source": [
    "## Point-like sources detection\n",
    "\n",
    "This step consists in two sub-steps:\n",
    "1. Running SExtractor on the image in the chosen band for point-like sources detectino (by default, F200W for JWST)\n",
    "2. Detecting point-like sources in a MU_MAX v. MAG_AUTO plot. MU_MAX is the maximum pixel value for each source, given in mag.arcsec^{-2}, and MAG_AUTO is a measure of the total source magnitude, in mag. Point-like sources tend to fall on a straight line, making it easy to select them.\n",
    "\n",
    "*N.B.: The selection of the point-like sources makes use of a linear regression to find the line, and a threshold `y_max` to exclude extended sources and allow for a good linear regression. This parameter may need to be tweaked for your images. You can use the \"Star line detection after galaxy cluster removal\" image to see the threshold.*"
   ]
  },
  {
   "cell_type": "code",
   "execution_count": 6,
   "metadata": {},
   "outputs": [
    {
     "ename": "IndexError",
     "evalue": "list index out of range",
     "output_type": "error",
     "traceback": [
      "\u001b[0;31m---------------------------------------------------------------------------\u001b[0m",
      "\u001b[0;31mIndexError\u001b[0m                                Traceback (most recent call last)",
      "Cell \u001b[0;32mIn[6], line 4\u001b[0m\n\u001b[1;32m      1\u001b[0m \u001b[38;5;66;03m# F200W Point-like sources detection\u001b[39;00m\n\u001b[1;32m      2\u001b[0m \u001b[38;5;28mfilter\u001b[39m \u001b[38;5;241m=\u001b[39m \u001b[38;5;124m'\u001b[39m\u001b[38;5;124mf200w\u001b[39m\u001b[38;5;124m'\u001b[39m\n\u001b[0;32m----> 4\u001b[0m dja_sepp\u001b[38;5;241m.\u001b[39msextractor\u001b[38;5;241m.\u001b[39mextract_stars(detect_img      \u001b[38;5;241m=\u001b[39m \u001b[43mglob\u001b[49m\u001b[38;5;241;43m.\u001b[39;49m\u001b[43mglob\u001b[49m\u001b[43m(\u001b[49m\u001b[38;5;124;43mf\u001b[39;49m\u001b[38;5;124;43m\"\u001b[39;49m\u001b[38;5;124;43m/FlashStorage/image/\u001b[39;49m\u001b[38;5;132;43;01m{\u001b[39;49;00m\u001b[43mfield\u001b[49m\u001b[38;5;132;43;01m}\u001b[39;49;00m\u001b[38;5;124;43m/*\u001b[39;49m\u001b[38;5;132;43;01m{\u001b[39;49;00m\u001b[38;5;28;43mfilter\u001b[39;49m\u001b[38;5;132;43;01m}\u001b[39;49;00m\u001b[38;5;124;43m*sci*.fits\u001b[39;49m\u001b[38;5;124;43m\"\u001b[39;49m\u001b[43m)\u001b[49m\u001b[43m[\u001b[49m\u001b[38;5;241;43m0\u001b[39;49m\u001b[43m]\u001b[49m, \\\n\u001b[1;32m      5\u001b[0m                                   weight_img      \u001b[38;5;241m=\u001b[39m glob\u001b[38;5;241m.\u001b[39mglob(\u001b[38;5;124mf\u001b[39m\u001b[38;5;124m\"\u001b[39m\u001b[38;5;124m/FlashStorage/image/\u001b[39m\u001b[38;5;132;01m{\u001b[39;00mfield\u001b[38;5;132;01m}\u001b[39;00m\u001b[38;5;124m/*\u001b[39m\u001b[38;5;132;01m{\u001b[39;00m\u001b[38;5;28mfilter\u001b[39m\u001b[38;5;132;01m}\u001b[39;00m\u001b[38;5;124m*wht*.fits\u001b[39m\u001b[38;5;124m\"\u001b[39m)[\u001b[38;5;241m0\u001b[39m], \\\n\u001b[1;32m      6\u001b[0m                                   output_cat      \u001b[38;5;241m=\u001b[39m \u001b[38;5;124mf\u001b[39m\u001b[38;5;124m\"\u001b[39m\u001b[38;5;124m/FlashStorage/catalog/\u001b[39m\u001b[38;5;132;01m{\u001b[39;00mfield\u001b[38;5;132;01m}\u001b[39;00m\u001b[38;5;124m/\u001b[39m\u001b[38;5;132;01m{\u001b[39;00mfield\u001b[38;5;132;01m}\u001b[39;00m\u001b[38;5;124m_drc_cat.fits\u001b[39m\u001b[38;5;124m\"\u001b[39m, \\\n\u001b[1;32m      7\u001b[0m                                   output_cat_star \u001b[38;5;241m=\u001b[39m \u001b[38;5;124mf\u001b[39m\u001b[38;5;124m\"\u001b[39m\u001b[38;5;124m/FlashStorage/catalog/\u001b[39m\u001b[38;5;132;01m{\u001b[39;00mfield\u001b[38;5;132;01m}\u001b[39;00m\u001b[38;5;124m/\u001b[39m\u001b[38;5;132;01m{\u001b[39;00mfield\u001b[38;5;132;01m}\u001b[39;00m\u001b[38;5;124m_drc_cat_star.fits\u001b[39m\u001b[38;5;124m\"\u001b[39m, \\\n\u001b[1;32m      8\u001b[0m                                   config_file     \u001b[38;5;241m=\u001b[39m \u001b[38;5;124m\"\u001b[39m\u001b[38;5;124m/home/ec2-user/DAWN/DJA-SEpp/config/PSFEx-Cat-JWST.sex\u001b[39m\u001b[38;5;124m\"\u001b[39m, \\\n\u001b[1;32m      9\u001b[0m                                   params_file     \u001b[38;5;241m=\u001b[39m \u001b[38;5;124m\"\u001b[39m\u001b[38;5;124m/home/ec2-user/DAWN/DJA-SEpp/config/PSFEx-Cat-JWST-SW.param\u001b[39m\u001b[38;5;124m\"\u001b[39m, \\\n\u001b[1;32m     10\u001b[0m                                   dir_chckimg     \u001b[38;5;241m=\u001b[39m \u001b[38;5;124mf\u001b[39m\u001b[38;5;124m\"\u001b[39m\u001b[38;5;124m/FlashStorage/catalog/\u001b[39m\u001b[38;5;132;01m{\u001b[39;00mfield\u001b[38;5;132;01m}\u001b[39;00m\u001b[38;5;124m/checkimages\u001b[39m\u001b[38;5;124m\"\u001b[39m, \\\n\u001b[1;32m     11\u001b[0m                                   detect_thresh \u001b[38;5;241m=\u001b[39m \u001b[38;5;241m8.0\u001b[39m, \\\n\u001b[1;32m     12\u001b[0m                                   y_max \u001b[38;5;241m=\u001b[39m \u001b[38;5;241m-\u001b[39m\u001b[38;5;241m5.0\u001b[39m, \\\n\u001b[1;32m     13\u001b[0m                                   save_chckimg \u001b[38;5;241m=\u001b[39m \u001b[38;5;28;01mFalse\u001b[39;00m, plot \u001b[38;5;241m=\u001b[39m \u001b[38;5;28;01mTrue\u001b[39;00m, clean \u001b[38;5;241m=\u001b[39m \u001b[38;5;28;01mTrue\u001b[39;00m, verbose \u001b[38;5;241m=\u001b[39m \u001b[38;5;28;01mTrue\u001b[39;00m)\n",
      "\u001b[0;31mIndexError\u001b[0m: list index out of range"
     ]
    }
   ],
   "source": [
    "# F200W Point-like sources detection\n",
    "filter = 'f200w'\n",
    "\n",
    "dja_sepp.sextractor.extract_stars(detect_img      = glob.glob(f\"/FlashStorage/image/{field}/*{filter}*sci*.fits\")[0], \\\n",
    "                                  weight_img      = glob.glob(f\"/FlashStorage/image/{field}/*{filter}*wht*.fits\")[0], \\\n",
    "                                  output_cat      = f\"/FlashStorage/catalog/{field}/{field}_drc_cat.fits\", \\\n",
    "                                  output_cat_star = f\"/FlashStorage/catalog/{field}/{field}_drc_cat_star.fits\", \\\n",
    "                                  config_file     = \"/home/ec2-user/DAWN/DJA-SEpp/config/PSFEx-Cat-JWST.sex\", \\\n",
    "                                  params_file     = \"/home/ec2-user/DAWN/DJA-SEpp/config/PSFEx-Cat-JWST-SW.param\", \\\n",
    "                                  dir_chckimg     = f\"/FlashStorage/catalog/{field}/checkimages\", \\\n",
    "                                  detect_thresh = 8.0, \\\n",
    "                                  y_max = -5.0, \\\n",
    "                                  save_chckimg = False, plot = True, clean = True, verbose = True)"
   ]
  },
  {
   "cell_type": "code",
   "execution_count": null,
   "metadata": {},
   "outputs": [],
   "source": [
    "# Save star catalog to S3\n",
    "dja_sepp.utils.save_S3(f\"/FlashStorage/catalog/{field}/{field}_drc_cat_star.fits\", 'aurelien-sepp', f\"catalog/{field}\")"
   ]
  },
  {
   "cell_type": "markdown",
   "metadata": {},
   "source": [
    "## Calculate PSF for each band\n",
    "\n",
    "The next step is, for each band, to : \n",
    "1. run SExtractor on the different bands,\n",
    "2. cross-match this catalog with the previous point-like sources catalog,\n",
    "3. run PSFEx on this cross-matched catalog to create the PSF for this band."
   ]
  },
  {
   "cell_type": "code",
   "execution_count": null,
   "metadata": {},
   "outputs": [],
   "source": [
    "# Filter list (for file organization and easy access)\n",
    "\n",
    "# filter_list = ['f090w', 'f115w', 'f150w', 'f182m', 'f200w', 'f210m', 'f277w', 'f335m', 'f356w', 'f410m', 'f444w']\n",
    "filter_list = [re.search('(f\\d+\\w+)', filename).group(1) for filename in glob.glob(f\"/FlashStorage/image/{field}/*sci*\")]\n",
    "filter_list.sort()\n",
    "filter_list"
   ]
  },
  {
   "cell_type": "code",
   "execution_count": null,
   "metadata": {},
   "outputs": [],
   "source": [
    "# Run SExtractor, cross-match and PSFEx for each band\n",
    "for filter in filter_list:\n",
    "    print(filter.upper())\n",
    "    print(\"Running SExtractor\")\n",
    "    dja_sepp.sextractor.extract_stars_catalog(detect_img      = glob.glob(f\"/FlashStorage/image/{field}/*{filter}*sci.fits\")[0], \\\n",
    "                                              weight_img      = glob.glob(f\"/FlashStorage/image/{field}/*{filter}*wht.fits\")[0], \\\n",
    "                                              output_cat      = f\"/FlashStorage/catalog/{field}/{field}-{filter}-clear_drc_cat.fits\", \\\n",
    "                                              output_cat_star = f\"/FlashStorage/catalog/{field}/{field}-{filter}-clear_drc_cat_star.fits\", \\\n",
    "                                              input_cat_star  = f\"/FlashStorage/catalog/{field}/{field}_drc_cat_star.fits\", \\\n",
    "                                              config_file     = \"/home/ec2-user/DAWN/DJA-SEpp/config/PSFEx-Cat-JWST.sex\", \\\n",
    "                                              params_file     = \"/home/ec2-user/DAWN/DJA-SEpp/config/PSFEx-Cat-JWST-SW.param\", \\\n",
    "                                              dir_chckimg     = f\"/FlashStorage/checkimages/{field}\", \\\n",
    "                                              detect_thresh = 2.5, \\\n",
    "                                              save_chckimg = False, plot = False, clean = True, run_sex = True, verbose = True)\n",
    "    print(\"Running PSFEX\")\n",
    "    dja_sepp.psfex.run_psfex(cat_name    = f\"/FlashStorage/catalog/{field}/{field}-{filter}-clear_drc_cat_star.fits\",\n",
    "                             output_cat  = f\"/FlashStorage/catalog/{field}/{field}-{filter}-clear_drc_cat_star_psf.fits\",\n",
    "                             dir_chckimg = f\"/FlashStorage/checkimages/{field}\",\n",
    "                             dir_psfex   = f\"/FlashStorage/psfex/{field}\",\n",
    "                             config_file = \"/home/ec2-user/DAWN/DJA-SEpp/config/psfex_default.conf\",\n",
    "                             fwhm_range  = '1.0, 10.0',\n",
    "                             save_psf_png = True,\n",
    "                             verbose = True)"
   ]
  },
  {
   "cell_type": "markdown",
   "metadata": {},
   "source": [
    "## Visualize all PSFs\n",
    "\n",
    "With the PSFs created for all the bands, it can be useful to visualize them to inspect for any defects or artefacts."
   ]
  },
  {
   "cell_type": "code",
   "execution_count": null,
   "metadata": {},
   "outputs": [],
   "source": [
    "import numpy as np\n",
    "import matplotlib.pyplot as plt\n",
    "from matplotlib.colors import SymLogNorm\n",
    "from matplotlib import patheffects\n",
    "from astropy.io import fits\n",
    "from dja_sepp.utils import color_dict, channel_dict, channel_color_dict"
   ]
  },
  {
   "cell_type": "code",
   "execution_count": null,
   "metadata": {},
   "outputs": [],
   "source": [
    "field = 'GDS'\n",
    "psf_list = glob.glob(f\"/home/ec2-user/DAWN/DJA-SEpp/psfex/{field}/*star_psf.psf\")\n",
    "filter_list = [re.search(\"f{1}\\d+\\w{1}\",psf).group() for psf in psf_list]\n",
    "psf_list, filter_list = zip(*sorted(zip(psf_list, filter_list)))"
   ]
  },
  {
   "cell_type": "code",
   "execution_count": null,
   "metadata": {},
   "outputs": [],
   "source": [
    "# Auto-sized plot to display all the PSFs\n",
    "channel, count = np.unique([channel_dict[filter.upper()] for filter in filter_list], return_counts=True)\n",
    "channel_count = dict(zip(channel, count))\n",
    "\n",
    "w = min(5,channel_count[max(channel_count, key=channel_count.get)])\n",
    "h = sum([-(channel_count[channel]//-w) for channel in channel_count])\n",
    "\n",
    "fig, axs = plt.subplots(h,w,figsize=(3*w+1,3*h+1), sharex=True, sharey=True, gridspec_kw = {'wspace':0, 'hspace':0})\n",
    "\n",
    "for i, filter in enumerate(filter_list):\n",
    "    image = fits.open(psf_list[i])\n",
    "\n",
    "    if (len(channel_count)==2) & (channel_dict[filter.upper()]==\"LW\"):\n",
    "        i += max(0, w-(channel_count[\"SW\"]%w))\n",
    "    ax = axs.flatten()[i] if type(axs)==np.ndarray else axs\n",
    "\n",
    "    psf = image[1].data[0][0][0]\n",
    "    image.close()\n",
    "\n",
    "    ax.set_axis_off()\n",
    "    ax.imshow(psf, origin='lower', cmap='bone_r', norm=SymLogNorm(linthresh=1e-5, linscale=0.8))\n",
    "    ax.text(0.06, 0.9, filter.upper(), transform=ax.transAxes, \n",
    "            fontsize='x-large', fontweight='bold', \n",
    "            color=color_dict[filter.upper()],\n",
    "            path_effects=[patheffects.withStroke(linewidth=1, foreground=\"k\")])\n",
    "    ax.text(0.82, 0.89, channel_dict[filter.upper()], transform=ax.transAxes, \n",
    "            fontsize='xx-large', fontweight='bold', \n",
    "            color=channel_color_dict[channel_dict[filter.upper()]],\n",
    "            path_effects=[patheffects.withStroke(linewidth=1, foreground=\"k\")])\n",
    "    \n",
    "fig.tight_layout()\n",
    "# fig.savefig(f\"/home/ec2-user/DAWN/DJA-SEpp/psfex/GDS/PSF_summary_{field}.pdf\", bbox_inches='tight', pad_inches=0)\n",
    "# fig.savefig(f\"/home/ec2-user/DAWN/DJA-SEpp/psfex/GDS/PSF_summary_{field}.png\", bbox_inches='tight', pad_inches=0, dpi=100)\n",
    "plt.show()"
   ]
  },
  {
   "cell_type": "markdown",
   "metadata": {},
   "source": [
    "### Save all PSFs to make GIF\n",
    "\n",
    "It is even possible to extract all the PSFs images individually, as png, to make a GIF and see how it grows with wavelength."
   ]
  },
  {
   "cell_type": "code",
   "execution_count": null,
   "metadata": {},
   "outputs": [],
   "source": [
    "rescale_psf = True # To rescale images between LW and SW to account for different pixel scales\n",
    "for filter in filter_list:\n",
    "    image = fits.open(glob.glob(f\"/FlashStorage/psfex/{field}/*{filter}*star_psf.psf\")[0])\n",
    "    psf = image[1].data[0][0][0]\n",
    "    image.close()\n",
    "\n",
    "    fig, ax = plt.subplots(figsize=(6,6))\n",
    "    ax.set_axis_off()\n",
    "    if rescale_psf:\n",
    "        extent = (-100,100,-100,100) if channel_dict[filter.upper()]=='SW' else (-200,200,-200,200) # Same pixel scale\n",
    "    else:\n",
    "        extent = (-100,100,-100,100) # No scaling\n",
    "    ax.imshow(psf, origin='lower', cmap='bone_r', norm=SymLogNorm(linthresh=1e-5, linscale=0.8), extent=extent)\n",
    "    ax.set_xlim(-100,100)\n",
    "    ax.set_ylim(-100,100)\n",
    "    ax.text(0.04, 0.92, filter.upper(), transform=ax.transAxes, \n",
    "            fontsize='xx-large', fontweight='bold', \n",
    "            color=color_dict[filter.upper()],\n",
    "            path_effects=[patheffects.withStroke(linewidth=1, foreground=\"k\")])\n",
    "    ax.text(0.84, 0.91, channel_dict[filter.upper()], transform=ax.transAxes, \n",
    "            fontsize=24, fontweight='bold', \n",
    "            color=channel_color_dict[channel_dict[filter.upper()]],\n",
    "            path_effects=[patheffects.withStroke(linewidth=1, foreground=\"k\")])\n",
    "    # if rescale_psf:\n",
    "    #     fig.savefig(f\"/home/ec2-user/DAWN/DJA-SEpp/psfex/GDS/scaled_{filter}.png\", bbox_inches='tight', pad_inches=0, dpi=100) # Same pixel scale\n",
    "    # else:\n",
    "    #     fig.savefig(f\"/home/ec2-user/DAWN/DJA-SEpp/psfex/GDS/{filter}.png\", bbox_inches='tight', pad_inches=0, dpi=100) # No scaling\n",
    "    plt.show()"
   ]
  }
 ],
 "metadata": {
  "kernelspec": {
   "display_name": "Python 3 (ipykernel)",
   "language": "python",
   "name": "python3"
  },
  "language_info": {
   "codemirror_mode": {
    "name": "ipython",
    "version": 3
   },
   "file_extension": ".py",
   "mimetype": "text/x-python",
   "name": "python",
   "nbconvert_exporter": "python",
   "pygments_lexer": "ipython3",
   "version": "3.9.19"
  }
 },
 "nbformat": 4,
 "nbformat_minor": 2
}
