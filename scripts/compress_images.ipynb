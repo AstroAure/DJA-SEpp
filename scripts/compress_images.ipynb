{
 "cells": [
  {
   "cell_type": "code",
   "execution_count": null,
   "metadata": {},
   "outputs": [],
   "source": [
    "from subprocess import check_call\n",
    "import os\n",
    "import boto3\n",
    "s3 = boto3.client('s3')\n",
    "import dja_sepp"
   ]
  },
  {
   "cell_type": "code",
   "execution_count": null,
   "metadata": {},
   "outputs": [],
   "source": [
    "field = 'ceers-full-grizli-v7.2'\n",
    "fit = 'B+D'"
   ]
  },
  {
   "cell_type": "code",
   "execution_count": null,
   "metadata": {},
   "outputs": [],
   "source": [
    "files = dja_sepp.s3.find_files(bucket='aurelien-sepp', \n",
    "                               path=f'{field}/sepp/{fit}/checkimages', \n",
    "                               regex=f\".*\\.fits\")\n",
    "files"
   ]
  },
  {
   "cell_type": "code",
   "execution_count": null,
   "metadata": {},
   "outputs": [],
   "source": [
    "for file in files:\n",
    "    print(file)\n",
    "    s3.download_file('aurelien-sepp', f'{field}/sepp/{fit}/checkimages/{file}', f\"/FlashStorage/{file}\")\n",
    "    check_call(['gzip', f\"/FlashStorage/{file}\"])\n",
    "    s3.upload_file(f\"/FlashStorage/{file}.gz\", 'aurelien-sepp', f\"{field}/sepp/{fit}/checkimages/{file}.gz\")\n",
    "    os.remove(f\"/FlashStorage/{file}.gz\")"
   ]
  },
  {
   "cell_type": "code",
   "execution_count": null,
   "metadata": {},
   "outputs": [],
   "source": [
    "for file in files:\n",
    "    s3.delete_object(Bucket='aurelien-sepp', Key=f\"{field}/sepp/{fit}/checkimages/{file}\")"
   ]
  }
 ],
 "metadata": {
  "language_info": {
   "name": "python"
  }
 },
 "nbformat": 4,
 "nbformat_minor": 2
}
