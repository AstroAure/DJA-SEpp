{
 "cells": [
  {
   "cell_type": "code",
   "execution_count": null,
   "metadata": {},
   "outputs": [],
   "source": [
    "import os\n",
    "import glob"
   ]
  },
  {
   "cell_type": "code",
   "execution_count": null,
   "metadata": {},
   "outputs": [],
   "source": [
    "python_config='/home/aurelien/DAWN/DJA_SE++/config/sepp-config.py'\n",
    "field = 'CEERS'\n",
    "## Detection image\n",
    "detect_img=glob.glob(f'/home/aurelien/DAWN/DJA_SE++/image/{field}/cutout/*ir*sci*.fits')[0]\n",
    "# Filter to use on the detection image\n",
    "filt='/home/aurelien/DAWN/DJA_SE++/config/gauss_3.0_5x5.conv'\n",
    "\n",
    "## Output\n",
    "properties='PixelCentroid,WorldCentroid,SourceIDs,GroupInfo,GroupStamp,SourceFlags,NDetectedPixels,NCorePixel,AperturePhotometry,AutoPhotometry,FluxRadius,SNRRatio,ShapeParameters,FlexibleModelFitting'\n",
    "name = \".\".join(detect_img.split(\"/\")[-1].split(\".\")[:-1])\n",
    "output_catname=f'/home/aurelien/DAWN/DJA_SE++/sepp/{field}/{name}_sepp_cat.fits'\n",
    "checkimg_path=f'/home/aurelien/DAWN/DJA_SE++/sepp/{field}/checkimages'\n",
    "os.makedirs(checkimg_path, exist_ok=True)"
   ]
  },
  {
   "cell_type": "code",
   "execution_count": null,
   "metadata": {},
   "outputs": [],
   "source": [
    "os.system(f\"sourcextractor++ \\\n",
    "         --python-config-file {python_config} \\\n",
    "         --output-catalog-filename {output_catname} \\\n",
    "         --output-properties {properties} \\\n",
    "         --detection-image {detect_img} \\\n",
    "         --weight-type WEIGHT \\\n",
    "         --weight-absolute 0 \\\n",
    "         --segmentation-filter {filt} \\\n",
    "         --background-cell-size 128 \\\n",
    "         --segmentation-algorithm LUTZ \\\n",
    "         --smoothing-box-size 5 \\\n",
    "         --detection-threshold 1.15 \\\n",
    "         --detection-minimum-area 6 \\\n",
    "         --partition-corethreshold yes \\\n",
    "         --core-threshold-value 2.25 \\\n",
    "         --core-minimum-area 15 \\\n",
    "         --grouping-algorithm split \\\n",
    "         --partition-multithreshold yes \\\n",
    "         --partition-minimum-area 18 \\\n",
    "         --grouping-hard-limit 0 \\\n",
    "         --partition-minimum-contrast 0.0001 \\\n",
    "         --partition-threshold-count 42 \\\n",
    "         --use-cleaning yes \\\n",
    "         --cleaning-minimum-area 15 \\\n",
    "         --model-fitting-iterations 550 \\\n",
    "         --sampling-scale-factor 1 \\\n",
    "         --check-image-model-fitting {checkimg_path}/model.fits \\\n",
    "         --check-image-residual {checkimg_path}/resid.fits \\\n",
    "         \")\n"
   ]
  },
  {
   "cell_type": "code",
   "execution_count": null,
   "metadata": {},
   "outputs": [],
   "source": []
  }
 ],
 "metadata": {
  "kernelspec": {
   "display_name": "dawn",
   "language": "python",
   "name": "python3"
  },
  "language_info": {
   "codemirror_mode": {
    "name": "ipython",
    "version": 3
   },
   "file_extension": ".py",
   "mimetype": "text/x-python",
   "name": "python",
   "nbconvert_exporter": "python",
   "pygments_lexer": "ipython3",
   "version": "3.9.19"
  }
 },
 "nbformat": 4,
 "nbformat_minor": 2
}
