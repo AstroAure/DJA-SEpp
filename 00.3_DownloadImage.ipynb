{
 "cells": [
  {
   "cell_type": "code",
   "execution_count": 7,
   "metadata": {},
   "outputs": [],
   "source": [
    "import os\n",
    "import boto3\n",
    "import gzip\n",
    "import shutil\n",
    "import re"
   ]
  },
  {
   "cell_type": "code",
   "execution_count": 8,
   "metadata": {},
   "outputs": [],
   "source": [
    "def decompress_save(file_name:str, \n",
    "                    in_bucket:str, in_path:str,\n",
    "                    out_bucket:str, out_path:str,\n",
    "                    temp_folder:str,\n",
    "                    deleting_file=True,\n",
    "                    verbose=False):\n",
    "    \"\"\"\n",
    "    Downloads a compressed .gz file from an S3 bucket, \n",
    "    and saves a decompressed version in another S3 bucket.\n",
    "\n",
    "    file_name : Name of the compressed file (without .gz)\n",
    "    in_bucket : Bucket where the compressed file is\n",
    "    in_path : Path in the in_bucket to the compressed file\n",
    "    out_bucket : Bucket to save the decompressed file to\n",
    "    out_path : Path in the out_bucket to save the decompressed file\n",
    "    temp_folder : Temporary folder to manipulate files\n",
    "    \"\"\"\n",
    "    s3 = boto3.client('s3')\n",
    "    os.makedirs(\"/home/ec2-user/FlashStorage/tmp/\", exist_ok=True)\n",
    "    # Download compressed images from S3\n",
    "    if verbose: print(f\"Downloading : https://s3.amazonaws.com/{in_bucket}/{in_path}/{file_name}.gz\")\n",
    "    s3.download_file(in_bucket, f\"{in_path}/{file_name}.gz\", f\"{temp_folder}/{file_name}.gz\")\n",
    "    # Decompress images\n",
    "    if verbose: print(f\"Decompressing : {temp_folder}/{file_name}.gz\")\n",
    "    with gzip.open(f\"{temp_folder}/{file_name}.gz\", 'rb') as image_gz:\n",
    "        with open(f\"{temp_folder}/{file_name}\", 'wb') as image_fits:\n",
    "            shutil.copyfileobj(image_gz, image_fits)\n",
    "    # Delete compressed images\n",
    "    if verbose: print(f\"Removing : {temp_folder}/{file_name}.gz\")\n",
    "    os.remove(f\"{temp_folder}/{file_name}.gz\")\n",
    "    #Save decompressed images to S3\n",
    "    if verbose: print(f\"Uploading : https://s3.amazonaws.com/{out_bucket}/{out_path}/{file_name}\")\n",
    "    s3.upload_file(f\"{temp_folder}/{file_name}\", out_bucket, f\"{out_path}/{file_name}\")\n",
    "    # Delete decompressed images\n",
    "    if deleting_file:\n",
    "        if verbose: print(f\"Removing : {temp_folder}/{file_name}\")\n",
    "        os.remove(f\"{temp_folder}/{file_name}\")"
   ]
  },
  {
   "cell_type": "code",
   "execution_count": 9,
   "metadata": {},
   "outputs": [],
   "source": [
    "def find_files(bucket:str, path:str, regex:str) -> list[str]:\n",
    "    \"\"\"\n",
    "    Find all files in a bucket matching a given regular expression.\n",
    "\n",
    "    bucket : Bucket to search files in\n",
    "    path : Path to search files in\n",
    "    regex : Regular expression to match\n",
    "\n",
    "    Returns : List of file names (without path)\n",
    "    \"\"\"\n",
    "    files = []\n",
    "    s3 = boto3.resource('s3')\n",
    "    bucket = s3.Bucket(bucket)\n",
    "    for obj in bucket.objects.filter(Prefix=f\"{path}/\"):\n",
    "        if re.search(regex, obj.key):\n",
    "            files.append(obj.key[len(path)+1:])\n",
    "    return files"
   ]
  },
  {
   "cell_type": "code",
   "execution_count": 11,
   "metadata": {},
   "outputs": [
    {
     "data": {
      "text/plain": [
       "['gds-grizli-v7.2-ir_drc_sci.fits.gz', 'gds-grizli-v7.2-ir_drc_wht.fits.gz']"
      ]
     },
     "execution_count": 11,
     "metadata": {},
     "output_type": "execute_result"
    }
   ],
   "source": [
    "files = find_files('grizli-v2', 'JwstMosaics/v7', \".+gds-grizli.+v7.2.+((f\\d+w-.*clear_drc)|ir).+(sci|wht).+\")\n",
    "files"
   ]
  },
  {
   "cell_type": "code",
   "execution_count": 12,
   "metadata": {},
   "outputs": [
    {
     "name": "stdout",
     "output_type": "stream",
     "text": [
      "1/2\n",
      "Downloading : https://s3.amazonaws.com/grizli-v2/JwstMosaics/v7/gds-grizli-v7.2-ir_drc_sci.fits.gz\n",
      "Decompressing : /FlashStorage/tmp/gds-grizli-v7.2-ir_drc_sci.fits.gz\n",
      "Removing : /FlashStorage/tmp/gds-grizli-v7.2-ir_drc_sci.fits.gz\n",
      "Uploading : https://s3.amazonaws.com/aurelien-sepp/image/GDS/gds-grizli-v7.2-ir_drc_sci.fits\n",
      "2/2\n",
      "Downloading : https://s3.amazonaws.com/grizli-v2/JwstMosaics/v7/gds-grizli-v7.2-ir_drc_wht.fits.gz\n",
      "Decompressing : /FlashStorage/tmp/gds-grizli-v7.2-ir_drc_wht.fits.gz\n",
      "Removing : /FlashStorage/tmp/gds-grizli-v7.2-ir_drc_wht.fits.gz\n",
      "Uploading : https://s3.amazonaws.com/aurelien-sepp/image/GDS/gds-grizli-v7.2-ir_drc_wht.fits\n"
     ]
    }
   ],
   "source": [
    "for i, file_name in enumerate(files):\n",
    "    print(f\"{i+1}/{len(files)}\")\n",
    "    decompress_save(file_name[:-3],\n",
    "                    in_bucket='grizli-v2', in_path='JwstMosaics/v7',\n",
    "                    out_bucket='aurelien-sepp', out_path='image/GDS',\n",
    "                    temp_folder='/FlashStorage/tmp',\n",
    "                    deleting_file=False, verbose=True)"
   ]
  },
  {
   "cell_type": "markdown",
   "metadata": {},
   "source": [
    "## Download files"
   ]
  },
  {
   "cell_type": "code",
   "execution_count": 4,
   "metadata": {},
   "outputs": [],
   "source": [
    "import os\n",
    "import boto3\n",
    "s3 = boto3.client('s3')"
   ]
  },
  {
   "cell_type": "code",
   "execution_count": 2,
   "metadata": {},
   "outputs": [],
   "source": [
    "field = 'GDS'\n",
    "filter = 'f200w'"
   ]
  },
  {
   "cell_type": "code",
   "execution_count": null,
   "metadata": {},
   "outputs": [],
   "source": [
    "# Download full image\n",
    "os.makedirs(f\"/FlashStorage/image/{field}/\", exist_ok=True)\n",
    "for filter in ['f115w', 'f200w', 'f277w', 'f444w']:\n",
    "    print(filter)\n",
    "    s3.download_file('aurelien-sepp', f\"image/{field}/gds-grizli-v7.2-{filter}-clear_drc_sci.fits\", f\"/FlashStorage/image/{field}/gds-grizli-v7.2-{filter}-clear_drc_sci.fits\")\n",
    "    s3.download_file('aurelien-sepp', f\"image/{field}/gds-grizli-v7.2-{filter}-clear_drc_wht.fits\", f\"/FlashStorage/image/{field}/gds-grizli-v7.2-{filter}-clear_drc_wht.fits\")"
   ]
  },
  {
   "cell_type": "code",
   "execution_count": 5,
   "metadata": {},
   "outputs": [],
   "source": [
    "# Download star catalog\n",
    "os.makedirs(f\"/FlashStorage/catalog/{field}/\", exist_ok=True)\n",
    "s3.download_file('aurelien-sepp', f\"catalog/{field}/GDS_drc_cat_star.fits\", f\"/FlashStorage/catalog/{field}/GDS_drc_cat_star.fits\")"
   ]
  },
  {
   "cell_type": "code",
   "execution_count": 6,
   "metadata": {},
   "outputs": [],
   "source": [
    "# Download DJA catalog\n",
    "os.makedirs(f\"/home/ec2-user/DAWN/DJA-SEpp/image/{field}/dja\", exist_ok=True)\n",
    "s3.download_file('grizli-v2', 'JwstMosaics/v7/gds-grizli-v7.2-fix_phot_apcorr.fits', f\"/home/ec2-user/DAWN/DJA-SEpp/image/{field}/dja/gds-grizli-v7.2-fix_phot_apcorr.fits\")"
   ]
  }
 ],
 "metadata": {
  "kernelspec": {
   "display_name": "Python 3 (ipykernel)",
   "language": "python",
   "name": "python3"
  },
  "language_info": {
   "codemirror_mode": {
    "name": "ipython",
    "version": 3
   },
   "file_extension": ".py",
   "mimetype": "text/x-python",
   "name": "python",
   "nbconvert_exporter": "python",
   "pygments_lexer": "ipython3",
   "version": "3.10.14"
  }
 },
 "nbformat": 4,
 "nbformat_minor": 2
}
