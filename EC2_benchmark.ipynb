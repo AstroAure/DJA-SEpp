{
 "cells": [
  {
   "cell_type": "markdown",
   "metadata": {},
   "source": [
    "# AWS EC2 instance types benchmarking for SE++\n",
    "\n",
    "### Instance types\n",
    "| Type         | vCPU | Memory (GiB) | Storage (GB) | Price ($/h) | Cost ($/h/vCPU) |\n",
    "| :----------: | :--: | :----------: | :----------: | :---------: | :-------------: |\n",
    "| c5d.large    | 2    | 4            | 50           | 0.096       | 0.0480          |\n",
    "| c7i.large    | 2    | 4            | -            | 0.0892      | 0.0445          |\n",
    "| c6a.large    | 2    | 4            | -            | 0.0765      | 0.0382          |\n",
    "| c6id.large   | 2    | 4            | 118          | 0.1008      | 0.0504          |\n",
    "| c5d.4xlarge  | 16   | 32           | 400          | 0.768       | 0.0480          |\n",
    "| c7i.4xlarge  | 16   | 32           | -            | 0.714       | 0.0445          |\n",
    "| c6a.4xlarge  | 16   | 32           | -            | 0.612       | 0.0382          |\n",
    "| c5d.24xlarge | 96   | 192          | 3600         | 4.608       | 0.0480          |\n",
    "| c7i.48xlarge | 192  | 384          | -            | 8.568       | 0.0445          |\n",
    "| c6a.48xlarge | 192  | 384          | -            | 7.344       | 0.0382          |\n",
    "\n",
    "### Benchmark fields\n",
    "| Size         | FOV       | Field | # Sources |\n",
    "| :----------: | :-------: | :---: | :-------: |\n",
    "| 0.25 arcsec² | 0.5\"x0.5\" | GDS   | 245       |\n",
    "| 4.0 arcsec²  | 2.0\"x2.0\" | GDS   | 3609      |\n",
    "\n",
    "### Results\n",
    "| Instance     | 0.25 arcsec² | 4.0 arcsec² |\n",
    "| :----------: | :----------: | :---------: |\n",
    "| c5d.large    | 01h06m39s    | ??h??m??s   |\n",
    "| c7i.large    | 00h47m51s    | ??h??m??s   |\n",
    "| c6a.large    | 00h42m14s    | ??h??m??s   |\n",
    "| c6id.large   | 00h56m11s    | ??h??m??s   |\n",
    "| c5d.4xlarge  | ??h??m??s    | ??h??m??s   |\n",
    "| c7i.4xlarge  | ??h??m??s    | ??h??m??s   |\n",
    "| c6a.4xlarge  | 00h13m39s    | 02h35m30s   |\n",
    "| c5d.24xlarge | ??h??m??s    | ??h??m??s   |\n",
    "| c7i.48xlarge | ??h??m??s    | ??h??m??s   |\n",
    "| c6a.48xlarge | ??h??m??s    | 6% (~4xlarge)$^{\\dagger}$|\n",
    "\n",
    "*$^{\\dagger}$ Low CPU utilization, test not conducted until the end*"
   ]
  },
  {
   "cell_type": "markdown",
   "metadata": {},
   "source": []
  }
 ],
 "metadata": {
  "kernelspec": {
   "display_name": "Python 3 (ipykernel)",
   "language": "python",
   "name": "python3"
  }
 },
 "nbformat": 4,
 "nbformat_minor": 2
}
